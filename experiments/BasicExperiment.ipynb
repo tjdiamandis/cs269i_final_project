{
 "cells": [
  {
   "cell_type": "code",
   "execution_count": 1,
   "metadata": {
    "collapsed": true
   },
   "outputs": [],
   "source": [
    "import sys\n",
    "sys.path.append(\"..\")\n",
    "sys.path.append(\"../src/\")\n",
    "sys.path.append(\"../src/algs/\")\n",
    "\n",
    "from src import interface\n",
    "from src import simulator\n",
    "from src import algs\n",
    "\n",
    "import numpy as np\n",
    "import matplotlib.pyplot as plt"
   ]
  },
  {
   "cell_type": "markdown",
   "metadata": {},
   "source": [
    "# Experiment 1: Greedy Vs Deferred Vs Lookahead\n",
    "-- batch saved for later"
   ]
  },
  {
   "cell_type": "code",
   "execution_count": 2,
   "metadata": {
    "collapsed": true
   },
   "outputs": [],
   "source": [
    "def weight_function_distance(buyer_pos, buyer_d, seller_pos, seller_d):\n",
    "    bx, by = buyer_pos\n",
    "    sx, sy = seller_pos\n",
    "    return 1/(1 + (bx-sx)**2 + (by-sy)**2)"
   ]
  },
  {
   "cell_type": "code",
   "execution_count": 3,
   "metadata": {
    "collapsed": true
   },
   "outputs": [],
   "source": [
    "departure_distr = (4,1) # mean, var\n",
    "seed = 42\n",
    "p_node = 1 # add a node every step\n",
    "num_runs = 1000"
   ]
  },
  {
   "cell_type": "code",
   "execution_count": 4,
   "metadata": {},
   "outputs": [],
   "source": [
    "algs_to_test = [\n",
    "    (\"greedy\", algs.Greedy()),\n",
    "    (\"dfa\", algs.DynamicDeferredAcceptance()),\n",
    "    (\"lookahead1\", algs.DeferredWithLookAhead(1)),\n",
    "    (\"lookahead3\", algs.DeferredWithLookAhead(3)),\n",
    "    (\"lookahead5\", algs.DeferredWithLookAhead(5))\n",
    "]"
   ]
  },
  {
   "cell_type": "markdown",
   "metadata": {},
   "source": [
    "## actually run one of the experiments"
   ]
  },
  {
   "cell_type": "code",
   "execution_count": 5,
   "metadata": {},
   "outputs": [],
   "source": [
    "results = {}\n",
    "for (alg_name, alg) in algs_to_test:\n",
    "    inter = interface.Interface(\n",
    "        alg,\n",
    "        simulator.Simulator(weight_function_distance),\n",
    "        p_node=p_node,\n",
    "        seed=seed,\n",
    "        dep_distr=departure_distr,\n",
    "        verbose=False)\n",
    "    results[alg_name] = inter.run(num_runs)"
   ]
  },
  {
   "cell_type": "code",
   "execution_count": 6,
   "metadata": {},
   "outputs": [
    {
     "name": "stdout",
     "output_type": "stream",
     "text": [
      "The greedy algorithm had an average weight of 0.17258985526348877\n",
      "The dfa algorithm had an average weight of 0.15539110240281198\n",
      "The lookahead1 algorithm had an average weight of 0.15539110240281198\n",
      "The lookahead3 algorithm had an average weight of 0.15539110240281198\n",
      "The lookahead5 algorithm had an average weight of 0.15539110240281198\n"
     ]
    }
   ],
   "source": [
    "for alg_name, res in results.items():\n",
    "    average_weight =  np.mean([w[0] for w in res[0]])\n",
    "    print(\"The {} algorithm had an average weight of {}\".format(alg_name, average_weight))\n"
   ]
  },
  {
   "cell_type": "markdown",
   "metadata": {},
   "source": [
    "# Let's run a few experiments..."
   ]
  },
  {
   "cell_type": "code",
   "execution_count": 7,
   "metadata": {
    "collapsed": true
   },
   "outputs": [],
   "source": [
    "def run_an_experiment(seed, p_node, departure_distr, algs_to_test):\n",
    "    results = {}\n",
    "    for (alg_name, alg) in algs_to_test:\n",
    "        inter = interface.Interface(\n",
    "            alg,\n",
    "            simulator.Simulator(weight_function_distance),\n",
    "            p_node=p_node,\n",
    "            seed=seed,\n",
    "            dep_distr=departure_distr)\n",
    "        results[alg_name] = inter.run(num_runs)\n",
    "    for alg_name, res in results.items():\n",
    "        average_weight =  np.mean([w[0] for w in res[0]])\n",
    "        print(\"The {} algorithm had an average weight of {}\".format(alg_name, average_weight))\n",
    "\n"
   ]
  },
  {
   "cell_type": "code",
   "execution_count": 8,
   "metadata": {},
   "outputs": [
    {
     "name": "stdout",
     "output_type": "stream",
     "text": [
      "\n",
      "Seed: 0\n",
      "The greedy algorithm had an average weight of 0.19492817795521916\n",
      "The dfa algorithm had an average weight of 0.15928865410333548\n",
      "The lookahead1 algorithm had an average weight of 0.14659745905134505\n",
      "\n",
      "Seed: 1\n",
      "The greedy algorithm had an average weight of 0.1938486558698566\n",
      "The dfa algorithm had an average weight of 0.17409650788278988\n",
      "The lookahead1 algorithm had an average weight of 0.17409650788278988\n",
      "\n",
      "Seed: 2\n",
      "The greedy algorithm had an average weight of 0.15230711133930055\n",
      "The dfa algorithm had an average weight of 0.13558792113115756\n",
      "The lookahead1 algorithm had an average weight of 0.13558792113115756\n",
      "\n",
      "Seed: 3\n",
      "The greedy algorithm had an average weight of 0.18638928322634538\n",
      "The dfa algorithm had an average weight of 0.16896687373126087\n",
      "The lookahead1 algorithm had an average weight of 0.16896687373126087\n",
      "\n",
      "Seed: 4\n",
      "The greedy algorithm had an average weight of 0.17851957915978198\n",
      "The dfa algorithm had an average weight of 0.163213977327564\n",
      "The lookahead1 algorithm had an average weight of 0.163213977327564\n",
      "\n",
      "Seed: 5\n",
      "The greedy algorithm had an average weight of 0.1933506783771202\n",
      "The dfa algorithm had an average weight of 0.17840573895256018\n",
      "The lookahead1 algorithm had an average weight of 0.17840573895256018\n",
      "\n",
      "Seed: 6\n",
      "The greedy algorithm had an average weight of 0.19774304830103692\n",
      "The dfa algorithm had an average weight of 0.17778846029551315\n",
      "The lookahead1 algorithm had an average weight of 0.17778846029551315\n",
      "\n",
      "Seed: 7\n",
      "The greedy algorithm had an average weight of 0.1978783317874982\n",
      "The dfa algorithm had an average weight of 0.17726745301971766\n",
      "The lookahead1 algorithm had an average weight of 0.17726745301971766\n",
      "\n",
      "Seed: 8\n",
      "The greedy algorithm had an average weight of 0.18254827257350276\n",
      "The dfa algorithm had an average weight of 0.1651005478258813\n",
      "The lookahead1 algorithm had an average weight of 0.1651005478258813\n",
      "\n",
      "Seed: 9\n",
      "The greedy algorithm had an average weight of 0.18153376047007658\n",
      "The dfa algorithm had an average weight of 0.1626336822681815\n",
      "The lookahead1 algorithm had an average weight of 0.1626336822681815\n"
     ]
    }
   ],
   "source": [
    "for seed in range(0,10):\n",
    "    print(\"\\nSeed:\", seed)\n",
    "    run_an_experiment(seed, 1, (4,1), algs_to_test[:3])"
   ]
  },
  {
   "cell_type": "code",
   "execution_count": null,
   "metadata": {
    "collapsed": true
   },
   "outputs": [],
   "source": []
  }
 ],
 "metadata": {
  "kernelspec": {
   "display_name": "CORRECT_PY3",
   "language": "python",
   "name": "python3_"
  },
  "language_info": {
   "codemirror_mode": {
    "name": "ipython",
    "version": 3
   },
   "file_extension": ".py",
   "mimetype": "text/x-python",
   "name": "python",
   "nbconvert_exporter": "python",
   "pygments_lexer": "ipython3",
   "version": "3.6.3"
  }
 },
 "nbformat": 4,
 "nbformat_minor": 2
}
