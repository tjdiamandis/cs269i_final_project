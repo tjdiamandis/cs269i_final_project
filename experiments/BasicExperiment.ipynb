{
 "cells": [
  {
   "cell_type": "code",
   "execution_count": 1,
   "metadata": {},
   "outputs": [],
   "source": [
    "import sys\n",
    "sys.path.append(\"..\")\n",
    "sys.path.append(\"../src/\")\n",
    "sys.path.append(\"../src/algs/\")\n",
    "\n",
    "from src import interface\n",
    "from src import simulator\n",
    "from src import algs\n",
    "\n",
    "import pandas as pd\n",
    "\n",
    "import numpy as np\n",
    "import matplotlib.pyplot as plt"
   ]
  },
  {
   "cell_type": "code",
   "execution_count": 2,
   "metadata": {},
   "outputs": [],
   "source": [
    "def print_some_things(result_dict):\n",
    "    for seed in result_dict.keys():\n",
    "        print(\"Seed:\", seed)\n",
    "        for alg_name, res in result_dict[seed].items():\n",
    "            print(\"Alg:\", alg_name)\n",
    "            weights, discarded_buyers, discarded_sellers, matched_wait_times = res\n",
    "            avg_weight_matching = np.mean([w[0] for w in weights])\n",
    "            n_matched_nodes = len(weights)*2 # because a match is 2 nodes\n",
    "            num_discarded_buyers = np.sum([d[0] for d in discarded_buyers])\n",
    "            num_discarded_sellers = np.sum([d[0] for d in discarded_sellers])\n",
    "            n_nodes = n_matched_nodes + num_discarded_buyers + num_discarded_sellers\n",
    "            avg_weight_per_node = (avg_weight_matching * n_matched_nodes) / n_nodes\n",
    "            print(\"Average weight per matching:\", avg_weight_matching)\n",
    "            print(\"Average weight per node:\", avg_weight_per_node)\n",
    "            print(\"Number of nodes: {}, matches: {}\".format(n_nodes, len(weights)))\n",
    "            print(\"Number of dropped buyers: {}, sellers: {}\".format(\n",
    "                num_discarded_buyers,\n",
    "                num_discarded_sellers\n",
    "            ))"
   ]
  },
  {
   "cell_type": "code",
   "execution_count": 54,
   "metadata": {},
   "outputs": [],
   "source": [
    "def print_some_more_things(result_dict):\n",
    "    # Prints to Latex table\n",
    "    to_print = dict()\n",
    "    keys = ['algorithm', 'Avg weight per matching', 'Avg weight per node', '$\\sigma$ weight per node']\n",
    "    for k in keys:\n",
    "        to_print[k] = []\n",
    "    \n",
    "    to_print_2 = dict()\n",
    "    keys = ['algorithm', 'Discarded buyers', 'Discarded sellers']\n",
    "    for k in keys:\n",
    "        to_print_2[k] = []\n",
    "    \n",
    "    for alg_name, res in result_dict[seed].items():\n",
    "        weights, discarded_buyers, discarded_sellers, matched_wait_times = res\n",
    "        avg_weight_matching = np.mean([w[0] for w in weights])\n",
    "        n_matched_nodes = len(weights)*2 # because a match is 2 nodes\n",
    "        num_discarded_buyers = np.sum([d[0] for d in discarded_buyers])\n",
    "        num_discarded_sellers = np.sum([d[0] for d in discarded_sellers])\n",
    "        n_nodes = n_matched_nodes + num_discarded_buyers + num_discarded_sellers\n",
    "        avg_weight_per_node = (avg_weight_matching * n_matched_nodes) / n_nodes\n",
    "        to_print['algorithm'].append(alg_name)\n",
    "        to_print_2['algorithm'].append(alg_name)\n",
    "        to_print['Avg weight per matching'].append(avg_weight_matching)\n",
    "        to_print['Avg weight per node'].append(avg_weight_per_node)\n",
    "        to_print_2['Discarded buyers'].append(100*num_discarded_buyers / n_nodes)\n",
    "        to_print_2['Discarded sellers'].append(100*num_discarded_sellers / n_nodes)\n",
    "        just_weights = [w[0] for w in weights]\n",
    "        weights_with_0s = []\n",
    "        for match in just_weights:\n",
    "            weights_with_0s.extend([match,match])\n",
    "        weights_with_0s.extend([0]*(num_discarded_buyers + num_discarded_sellers))\n",
    "        to_print['$\\sigma$ weight per node'].append(np.std(weights_with_0s))\n",
    "        \n",
    "    for key, vals in to_print.items():\n",
    "        print('\\n', key, end='')\n",
    "        for val in vals:\n",
    "            print(' & ', val, end='')\n",
    "        print(\" \\\\\\\\\", end=\"\")\n",
    "    \n",
    "    print('\\n')\n",
    "    for key, vals in to_print_2.items():\n",
    "        print('\\n', key, end='')\n",
    "        for val in vals:\n",
    "            print(' & ', val, end='')\n",
    "        print(\" \\\\\\\\\", end=\"\")\n",
    "        \n",
    "        "
   ]
  },
  {
   "cell_type": "markdown",
   "metadata": {},
   "source": [
    "# Let's run a few experiments..."
   ]
  },
  {
   "cell_type": "code",
   "execution_count": 4,
   "metadata": {},
   "outputs": [],
   "source": [
    "def run_an_experiment(seed, p_node, departure_distr, algs_to_test, weight_fn,\n",
    "                      fewest_nodes_per_add=1, max_nodes_per_add=10,\n",
    "                      p_buyer=0.5, num_runs=1000, size=(10,10), recalc=False):\n",
    "    results = {}\n",
    "    for (alg_name, alg) in algs_to_test:\n",
    "        inter = interface.Interface(\n",
    "            alg,\n",
    "            simulator.Simulator(weight_fn),\n",
    "            p_node=p_node,\n",
    "            min_to_add=fewest_nodes_per_add,\n",
    "            max_to_add=max_nodes_per_add,\n",
    "            p_buyer=p_buyer,\n",
    "            seed=seed,\n",
    "            dep_distr=departure_distr,\n",
    "            recalc_weights=recalc)\n",
    "        results[alg_name] = inter.run(num_runs)\n",
    "    for alg_name, res in results.items():\n",
    "        average_weight =  np.mean([w[0] for w in res[0]])\n",
    "        print(\"The {} algorithm had an average weight of {}\".format(alg_name, average_weight))\n",
    "    return results\n"
   ]
  },
  {
   "cell_type": "code",
   "execution_count": 5,
   "metadata": {},
   "outputs": [],
   "source": [
    "def make_dataframe(results, seed=0):\n",
    "    aggregates = {}\n",
    "    for alg_name, res in results[seed].items():\n",
    "        weights, discarded_buyers, discarded_sellers, matched_wait_times = res\n",
    "        just_weights = [w[0] for w in weights]\n",
    "        avg_weight_matching = np.mean(just_weights)\n",
    "        n_matched_nodes = len(weights)*2 # because a match is 2 nodes\n",
    "        num_discarded_buyers = np.sum([d[0] for d in discarded_buyers])\n",
    "        num_discarded_sellers = np.sum([d[0] for d in discarded_sellers])\n",
    "        n_nodes = n_matched_nodes + num_discarded_buyers + num_discarded_sellers\n",
    "        avg_weight_per_node = (avg_weight_matching * n_matched_nodes) / n_nodes\n",
    "        this_alg_aggregates = {}\n",
    "        this_alg_aggregates[\"avg_weight_matching\"] = avg_weight_matching\n",
    "        this_alg_aggregates[\"avg_weight_per_node\"] = avg_weight_per_node\n",
    "        weights_with_0s = []\n",
    "        for match in just_weights:\n",
    "            weights_with_0s.extend([match,match])\n",
    "        weights_with_0s.extend([0]*(num_discarded_buyers + num_discarded_sellers))\n",
    "        this_alg_aggregates[\"weight_per_node_stddev\"] = np.std(weights_with_0s)\n",
    "        this_alg_aggregates[\"num_discarded_sellers\"] = num_discarded_sellers\n",
    "        this_alg_aggregates[\"num_discarded_buyers\"] = num_discarded_buyers\n",
    "        aggregates[alg_name] = this_alg_aggregates\n",
    "    return pd.DataFrame(aggregates)\n",
    "\n"
   ]
  },
  {
   "cell_type": "markdown",
   "metadata": {},
   "source": [
    "### Fixed departures, pure distance weight function, balanced market"
   ]
  },
  {
   "cell_type": "code",
   "execution_count": 47,
   "metadata": {},
   "outputs": [],
   "source": [
    "algs_to_test = [\n",
    "    (\"Greedy\", algs.Greedy()),\n",
    "    (\"DDA\", algs.DynamicDeferredAcceptance()),\n",
    "    (\"LookAhead1\", algs.DeferredWithLookAhead(1)),\n",
    "    (\"LookAhead3\", algs.DeferredWithLookAhead(3)),\n",
    "    (\"LookAhead5\", algs.DeferredWithLookAhead(5))\n",
    "]"
   ]
  },
  {
   "cell_type": "code",
   "execution_count": 7,
   "metadata": {},
   "outputs": [],
   "source": [
    "def weight_function_distance(buyer_pos, buyer_d, seller_pos, seller_d):\n",
    "    bx, by = buyer_pos\n",
    "    sx, sy = seller_pos\n",
    "    return 1/(1 + (bx-sx)**2 + (by-sy)**2)"
   ]
  },
  {
   "cell_type": "code",
   "execution_count": 48,
   "metadata": {},
   "outputs": [
    {
     "name": "stdout",
     "output_type": "stream",
     "text": [
      "\n",
      "Seed: 0\n",
      "The Greedy algorithm had an average weight of 0.44916960832973013\n",
      "The DDA algorithm had an average weight of 0.35383355067916966\n",
      "The LookAhead1 algorithm had an average weight of 0.3462263137614577\n",
      "The LookAhead3 algorithm had an average weight of 0.337721109605453\n",
      "The LookAhead5 algorithm had an average weight of 0.3686430787009736\n"
     ]
    },
    {
     "data": {
      "text/html": [
       "<div>\n",
       "<style scoped>\n",
       "    .dataframe tbody tr th:only-of-type {\n",
       "        vertical-align: middle;\n",
       "    }\n",
       "\n",
       "    .dataframe tbody tr th {\n",
       "        vertical-align: top;\n",
       "    }\n",
       "\n",
       "    .dataframe thead th {\n",
       "        text-align: right;\n",
       "    }\n",
       "</style>\n",
       "<table border=\"1\" class=\"dataframe\">\n",
       "  <thead>\n",
       "    <tr style=\"text-align: right;\">\n",
       "      <th></th>\n",
       "      <th>DDA</th>\n",
       "      <th>Greedy</th>\n",
       "      <th>LookAhead1</th>\n",
       "      <th>LookAhead3</th>\n",
       "      <th>LookAhead5</th>\n",
       "    </tr>\n",
       "  </thead>\n",
       "  <tbody>\n",
       "    <tr>\n",
       "      <th>avg_weight_matching</th>\n",
       "      <td>0.353834</td>\n",
       "      <td>0.449170</td>\n",
       "      <td>0.346226</td>\n",
       "      <td>0.337721</td>\n",
       "      <td>0.368643</td>\n",
       "    </tr>\n",
       "    <tr>\n",
       "      <th>avg_weight_per_node</th>\n",
       "      <td>0.241494</td>\n",
       "      <td>0.228318</td>\n",
       "      <td>0.227991</td>\n",
       "      <td>0.229550</td>\n",
       "      <td>0.250938</td>\n",
       "    </tr>\n",
       "    <tr>\n",
       "      <th>num_discarded_buyers</th>\n",
       "      <td>228.000000</td>\n",
       "      <td>347.000000</td>\n",
       "      <td>232.000000</td>\n",
       "      <td>229.000000</td>\n",
       "      <td>241.000000</td>\n",
       "    </tr>\n",
       "    <tr>\n",
       "      <th>num_discarded_sellers</th>\n",
       "      <td>253.000000</td>\n",
       "      <td>363.000000</td>\n",
       "      <td>270.000000</td>\n",
       "      <td>246.000000</td>\n",
       "      <td>229.000000</td>\n",
       "    </tr>\n",
       "    <tr>\n",
       "      <th>weight_per_node_stddev</th>\n",
       "      <td>0.284968</td>\n",
       "      <td>0.311412</td>\n",
       "      <td>0.270724</td>\n",
       "      <td>0.274122</td>\n",
       "      <td>0.301715</td>\n",
       "    </tr>\n",
       "  </tbody>\n",
       "</table>\n",
       "</div>"
      ],
      "text/plain": [
       "                               DDA      Greedy  LookAhead1  LookAhead3  \\\n",
       "avg_weight_matching       0.353834    0.449170    0.346226    0.337721   \n",
       "avg_weight_per_node       0.241494    0.228318    0.227991    0.229550   \n",
       "num_discarded_buyers    228.000000  347.000000  232.000000  229.000000   \n",
       "num_discarded_sellers   253.000000  363.000000  270.000000  246.000000   \n",
       "weight_per_node_stddev    0.284968    0.311412    0.270724    0.274122   \n",
       "\n",
       "                        LookAhead5  \n",
       "avg_weight_matching       0.368643  \n",
       "avg_weight_per_node       0.250938  \n",
       "num_discarded_buyers    241.000000  \n",
       "num_discarded_sellers   229.000000  \n",
       "weight_per_node_stddev    0.301715  "
      ]
     },
     "execution_count": 48,
     "metadata": {},
     "output_type": "execute_result"
    }
   ],
   "source": [
    "results1 = {}\n",
    "for seed in range(0,1):\n",
    "    print(\"\\nSeed:\", seed)\n",
    "    results1[seed] = run_an_experiment(seed, 0.9, (6,0), algs_to_test, weight_function_distance,\n",
    "                      fewest_nodes_per_add=1, max_nodes_per_add=6,\n",
    "                      p_buyer=0.5, num_runs=500, size=(10,10))\n",
    "make_dataframe(results1)"
   ]
  },
  {
   "cell_type": "code",
   "execution_count": 49,
   "metadata": {},
   "outputs": [
    {
     "name": "stdout",
     "output_type": "stream",
     "text": [
      "\n",
      " algorithm &  Greedy &  DDA &  LookAhead1 &  LookAhead3 &  LookAhead5 \\\\\n",
      " avg weight per matching &  0.44916960832973013 &  0.35383355067916966 &  0.3462263137614577 &  0.337721109605453 &  0.3686430787009736 \\\\\n",
      " avg weight per node &  0.2283175155914279 &  0.24149431775726826 &  0.22799120525244287 &  0.22955015406763088 &  0.2509377478657443 \\\\\n",
      " $\\sigma$ weight per node &  0.3114116835588558 &  0.28496808811924396 &  0.270723875213394 &  0.27412199637670853 &  0.3017151150633318 \\\\\n",
      "\n",
      "\n",
      " algorithm &  Greedy &  DDA &  LookAhead1 &  LookAhead3 &  LookAhead5 \\\\\n",
      " discarded buyers &  24.030470914127424 &  15.049504950495049 &  15.782312925170068 &  15.441672285906945 &  16.372282608695652 \\\\\n",
      " discarded sellers &  25.138504155124654 &  16.699669966996698 &  18.367346938775512 &  16.587997302764666 &  15.557065217391305 \\\\"
     ]
    }
   ],
   "source": [
    "print_some_more_things(results1)"
   ]
  },
  {
   "cell_type": "markdown",
   "metadata": {},
   "source": [
    "### Fixed departures, pure distance weight function, p_buyer = 0.3"
   ]
  },
  {
   "cell_type": "code",
   "execution_count": 50,
   "metadata": {},
   "outputs": [
    {
     "name": "stdout",
     "output_type": "stream",
     "text": [
      "\n",
      "Seed: 0\n",
      "The Greedy algorithm had an average weight of 0.43695055072052963\n",
      "The DDA algorithm had an average weight of 0.42119629579746126\n",
      "The LookAhead1 algorithm had an average weight of 0.4402097441460022\n",
      "The LookAhead3 algorithm had an average weight of 0.41221691714501535\n",
      "The LookAhead5 algorithm had an average weight of 0.4035989693170042\n"
     ]
    },
    {
     "data": {
      "text/html": [
       "<div>\n",
       "<style scoped>\n",
       "    .dataframe tbody tr th:only-of-type {\n",
       "        vertical-align: middle;\n",
       "    }\n",
       "\n",
       "    .dataframe tbody tr th {\n",
       "        vertical-align: top;\n",
       "    }\n",
       "\n",
       "    .dataframe thead th {\n",
       "        text-align: right;\n",
       "    }\n",
       "</style>\n",
       "<table border=\"1\" class=\"dataframe\">\n",
       "  <thead>\n",
       "    <tr style=\"text-align: right;\">\n",
       "      <th></th>\n",
       "      <th>DDA</th>\n",
       "      <th>Greedy</th>\n",
       "      <th>LookAhead1</th>\n",
       "      <th>LookAhead3</th>\n",
       "      <th>LookAhead5</th>\n",
       "    </tr>\n",
       "  </thead>\n",
       "  <tbody>\n",
       "    <tr>\n",
       "      <th>avg_weight_matching</th>\n",
       "      <td>0.421196</td>\n",
       "      <td>0.436951</td>\n",
       "      <td>0.440210</td>\n",
       "      <td>0.412217</td>\n",
       "      <td>0.403599</td>\n",
       "    </tr>\n",
       "    <tr>\n",
       "      <th>avg_weight_per_node</th>\n",
       "      <td>0.185742</td>\n",
       "      <td>0.169859</td>\n",
       "      <td>0.189746</td>\n",
       "      <td>0.183830</td>\n",
       "      <td>0.176053</td>\n",
       "    </tr>\n",
       "    <tr>\n",
       "      <th>num_discarded_buyers</th>\n",
       "      <td>128.000000</td>\n",
       "      <td>138.000000</td>\n",
       "      <td>117.000000</td>\n",
       "      <td>108.000000</td>\n",
       "      <td>117.000000</td>\n",
       "    </tr>\n",
       "    <tr>\n",
       "      <th>num_discarded_sellers</th>\n",
       "      <td>734.000000</td>\n",
       "      <td>752.000000</td>\n",
       "      <td>741.000000</td>\n",
       "      <td>707.000000</td>\n",
       "      <td>674.000000</td>\n",
       "    </tr>\n",
       "    <tr>\n",
       "      <th>weight_per_node_stddev</th>\n",
       "      <td>0.281030</td>\n",
       "      <td>0.271242</td>\n",
       "      <td>0.285932</td>\n",
       "      <td>0.281404</td>\n",
       "      <td>0.277244</td>\n",
       "    </tr>\n",
       "  </tbody>\n",
       "</table>\n",
       "</div>"
      ],
      "text/plain": [
       "                               DDA      Greedy  LookAhead1  LookAhead3  \\\n",
       "avg_weight_matching       0.421196    0.436951    0.440210    0.412217   \n",
       "avg_weight_per_node       0.185742    0.169859    0.189746    0.183830   \n",
       "num_discarded_buyers    128.000000  138.000000  117.000000  108.000000   \n",
       "num_discarded_sellers   734.000000  752.000000  741.000000  707.000000   \n",
       "weight_per_node_stddev    0.281030    0.271242    0.285932    0.281404   \n",
       "\n",
       "                        LookAhead5  \n",
       "avg_weight_matching       0.403599  \n",
       "avg_weight_per_node       0.176053  \n",
       "num_discarded_buyers    117.000000  \n",
       "num_discarded_sellers   674.000000  \n",
       "weight_per_node_stddev    0.277244  "
      ]
     },
     "execution_count": 50,
     "metadata": {},
     "output_type": "execute_result"
    }
   ],
   "source": [
    "results_pb = {}\n",
    "for seed in range(0,1):\n",
    "    print(\"\\nSeed:\", seed)\n",
    "    results_pb[seed] = run_an_experiment(seed, 0.9, (6,0), algs_to_test, weight_function_distance,\n",
    "                      fewest_nodes_per_add=1, max_nodes_per_add=6,\n",
    "                      p_buyer=0.3, num_runs=500, size=(10,10))\n",
    "make_dataframe(results_pb)"
   ]
  },
  {
   "cell_type": "code",
   "execution_count": 51,
   "metadata": {},
   "outputs": [
    {
     "name": "stdout",
     "output_type": "stream",
     "text": [
      "\n",
      " algorithm &  Greedy &  DDA &  LookAhead1 &  LookAhead3 &  LookAhead5 \\\\\n",
      " avg weight per matching &  0.43695055072052963 &  0.42119629579746126 &  0.4402097441460022 &  0.41221691714501535 &  0.4035989693170042 \\\\\n",
      " avg weight per node &  0.16985852452460148 &  0.18574155716100757 &  0.18974557937327682 &  0.18383024993006802 &  0.17605314983749576 \\\\\n",
      " $\\sigma$ weight per node &  0.27124208318669196 &  0.2810300656695929 &  0.28593216327701065 &  0.28140398939818695 &  0.27724375258546297 \\\\\n",
      "\n",
      "\n",
      " algorithm &  Greedy &  DDA &  LookAhead1 &  LookAhead3 &  LookAhead5 \\\\\n",
      " discarded buyers &  9.478021978021978 &  8.300907911802854 &  7.758620689655173 &  7.341944255608429 &  8.33927298645759 \\\\\n",
      " discarded sellers &  51.64835164835165 &  47.60051880674449 &  49.13793103448276 &  48.06254248810333 &  48.03991446899501 \\\\"
     ]
    }
   ],
   "source": [
    "print_some_more_things(results_pb)"
   ]
  },
  {
   "cell_type": "markdown",
   "metadata": {},
   "source": [
    "### Fixed departures, pure distance weight function, p_buyer = 0.7"
   ]
  },
  {
   "cell_type": "code",
   "execution_count": 52,
   "metadata": {},
   "outputs": [
    {
     "name": "stdout",
     "output_type": "stream",
     "text": [
      "\n",
      "Seed: 0\n",
      "The Greedy algorithm had an average weight of 0.4155892115558785\n",
      "The DDA algorithm had an average weight of 0.3719102486920567\n",
      "The LookAhead1 algorithm had an average weight of 0.34425583990328407\n",
      "The LookAhead3 algorithm had an average weight of 0.3500628649240023\n",
      "The LookAhead5 algorithm had an average weight of 0.35784369592849\n"
     ]
    },
    {
     "data": {
      "text/html": [
       "<div>\n",
       "<style scoped>\n",
       "    .dataframe tbody tr th:only-of-type {\n",
       "        vertical-align: middle;\n",
       "    }\n",
       "\n",
       "    .dataframe tbody tr th {\n",
       "        vertical-align: top;\n",
       "    }\n",
       "\n",
       "    .dataframe thead th {\n",
       "        text-align: right;\n",
       "    }\n",
       "</style>\n",
       "<table border=\"1\" class=\"dataframe\">\n",
       "  <thead>\n",
       "    <tr style=\"text-align: right;\">\n",
       "      <th></th>\n",
       "      <th>DDA</th>\n",
       "      <th>Greedy</th>\n",
       "      <th>LookAhead1</th>\n",
       "      <th>LookAhead3</th>\n",
       "      <th>LookAhead5</th>\n",
       "    </tr>\n",
       "  </thead>\n",
       "  <tbody>\n",
       "    <tr>\n",
       "      <th>avg_weight_matching</th>\n",
       "      <td>0.371910</td>\n",
       "      <td>0.415589</td>\n",
       "      <td>0.344256</td>\n",
       "      <td>0.350063</td>\n",
       "      <td>0.357844</td>\n",
       "    </tr>\n",
       "    <tr>\n",
       "      <th>avg_weight_per_node</th>\n",
       "      <td>0.213513</td>\n",
       "      <td>0.200152</td>\n",
       "      <td>0.196455</td>\n",
       "      <td>0.207409</td>\n",
       "      <td>0.211894</td>\n",
       "    </tr>\n",
       "    <tr>\n",
       "      <th>num_discarded_buyers</th>\n",
       "      <td>624.000000</td>\n",
       "      <td>638.000000</td>\n",
       "      <td>617.000000</td>\n",
       "      <td>579.000000</td>\n",
       "      <td>579.000000</td>\n",
       "    </tr>\n",
       "    <tr>\n",
       "      <th>num_discarded_sellers</th>\n",
       "      <td>14.000000</td>\n",
       "      <td>109.000000</td>\n",
       "      <td>27.000000</td>\n",
       "      <td>18.000000</td>\n",
       "      <td>23.000000</td>\n",
       "    </tr>\n",
       "    <tr>\n",
       "      <th>weight_per_node_stddev</th>\n",
       "      <td>0.279558</td>\n",
       "      <td>0.284121</td>\n",
       "      <td>0.267519</td>\n",
       "      <td>0.276219</td>\n",
       "      <td>0.284897</td>\n",
       "    </tr>\n",
       "  </tbody>\n",
       "</table>\n",
       "</div>"
      ],
      "text/plain": [
       "                               DDA      Greedy  LookAhead1  LookAhead3  \\\n",
       "avg_weight_matching       0.371910    0.415589    0.344256    0.350063   \n",
       "avg_weight_per_node       0.213513    0.200152    0.196455    0.207409   \n",
       "num_discarded_buyers    624.000000  638.000000  617.000000  579.000000   \n",
       "num_discarded_sellers    14.000000  109.000000   27.000000   18.000000   \n",
       "weight_per_node_stddev    0.279558    0.284121    0.267519    0.276219   \n",
       "\n",
       "                        LookAhead5  \n",
       "avg_weight_matching       0.357844  \n",
       "avg_weight_per_node       0.211894  \n",
       "num_discarded_buyers    579.000000  \n",
       "num_discarded_sellers    23.000000  \n",
       "weight_per_node_stddev    0.284897  "
      ]
     },
     "execution_count": 52,
     "metadata": {},
     "output_type": "execute_result"
    }
   ],
   "source": [
    "results_pb2 = {}\n",
    "for seed in range(0,1):\n",
    "    print(\"\\nSeed:\", seed)\n",
    "    results_pb2[seed] = run_an_experiment(seed, 0.9, (6,0), algs_to_test, weight_function_distance,\n",
    "                      fewest_nodes_per_add=1, max_nodes_per_add=6,\n",
    "                      p_buyer=0.7, num_runs=500, size=(10,10))\n",
    "make_dataframe(results_pb2)"
   ]
  },
  {
   "cell_type": "code",
   "execution_count": 53,
   "metadata": {},
   "outputs": [
    {
     "name": "stdout",
     "output_type": "stream",
     "text": [
      "\n",
      " algorithm &  Greedy &  DDA &  LookAhead1 &  LookAhead3 &  LookAhead5 \\\\\n",
      " avg weight per matching &  0.4155892115558785 &  0.3719102486920567 &  0.34425583990328407 &  0.3500628649240023 &  0.35784369592849 \\\\\n",
      " avg weight per node &  0.20015191729339327 &  0.21351322688596044 &  0.19645533263814077 &  0.20740926058295836 &  0.2118938958275747 \\\\\n",
      " $\\sigma$ weight per node &  0.2841210129845348 &  0.2795575115955846 &  0.26751888549798275 &  0.2762189757549327 &  0.28489725910878755 \\\\\n",
      "\n",
      "\n",
      " algorithm &  Greedy &  DDA &  LookAhead1 &  LookAhead3 &  LookAhead5 \\\\\n",
      " discarded buyers &  44.274809160305345 &  41.655540720961284 &  41.13333333333333 &  39.522184300341294 &  39.22764227642276 \\\\\n",
      " discarded sellers &  7.5641915336571826 &  0.9345794392523364 &  1.8 &  1.2286689419795223 &  1.5582655826558265 \\\\"
     ]
    }
   ],
   "source": [
    "print_some_more_things(results_pb2)"
   ]
  },
  {
   "cell_type": "markdown",
   "metadata": {},
   "source": [
    "### Fixed departures, time and distance weight function(s), balanced market"
   ]
  },
  {
   "cell_type": "code",
   "execution_count": 14,
   "metadata": {},
   "outputs": [
    {
     "name": "stdout",
     "output_type": "stream",
     "text": [
      "The Greedy algorithm had an average weight of 0.6554656408291908\n",
      "The DDA algorithm had an average weight of 0.5698972137486943\n",
      "The Lookahead(1) algorithm had an average weight of 0.5757939300877712\n",
      "The Lookahead(3) algorithm had an average weight of 0.5785427248419591\n",
      "The Lookahead(5) algorithm had an average weight of 0.5699060513831903\n",
      "The Greedy algorithm had an average weight of 4.294584614907241\n",
      "The DDA algorithm had an average weight of 3.7320381994264746\n",
      "The Lookahead(1) algorithm had an average weight of 3.8578350875161624\n",
      "The Lookahead(3) algorithm had an average weight of 3.6245117935934412\n",
      "The Lookahead(5) algorithm had an average weight of 3.5812595954334325\n",
      "The Greedy algorithm had an average weight of 0.34000863194636743\n",
      "The DDA algorithm had an average weight of 0.2922867471423604\n",
      "The Lookahead(1) algorithm had an average weight of 0.3071590831693432\n",
      "The Lookahead(3) algorithm had an average weight of 0.29059360459474365\n",
      "The Lookahead(5) algorithm had an average weight of 0.3094370044424819\n"
     ]
    }
   ],
   "source": [
    "# difference is weighting of time / distance components.\n",
    "def weight_function_d_and_time_sep1(buyer_pos, buyer_d, seller_pos, seller_d):\n",
    "    # mu = 1\n",
    "    bx, by = buyer_pos\n",
    "    sx, sy = seller_pos\n",
    "    return 1/(buyer_d + seller_d) + 1/(1 + (bx-sx)**2 + (by-sy)**2)\n",
    "def weight_function_d_and_time_sep2(buyer_pos, buyer_d, seller_pos, seller_d):\n",
    "    # mu = 10\n",
    "    bx, by = buyer_pos\n",
    "    sx, sy = seller_pos\n",
    "    return 1/(buyer_d + seller_d) + 10*1/(1 + (bx-sx)**2 + (by-sy)**2)\n",
    "def weight_function_d_and_time_sep3(buyer_pos, buyer_d, seller_pos, seller_d):\n",
    "    # mu = 1/10\n",
    "    bx, by = buyer_pos\n",
    "    sx, sy = seller_pos\n",
    "    return 1/(buyer_d + seller_d) + 0.1/(1 + (bx-sx)**2 + (by-sy)**2)\n",
    "\n",
    "results_time_sep_1 = {}\n",
    "results_time_sep_2 = {}\n",
    "results_time_sep_3 = {}\n",
    "seed = 0\n",
    "results_time_sep_1[seed] = run_an_experiment(\n",
    "    seed, 0.9, (6,0), algs_to_test, \n",
    "    weight_function_d_and_time_sep1,\n",
    "    fewest_nodes_per_add=1, max_nodes_per_add=6,\n",
    "    p_buyer=0.5, num_runs=500, size=(10,10), recalc=True)\n",
    "results_time_sep_2[seed] = run_an_experiment(\n",
    "    seed, 0.9, (6,0), algs_to_test, \n",
    "    weight_function_d_and_time_sep2,\n",
    "    fewest_nodes_per_add=1, max_nodes_per_add=6,\n",
    "    p_buyer=0.5, num_runs=500, size=(10,10), recalc=True)\n",
    "results_time_sep_3[seed] = run_an_experiment(\n",
    "    seed, 0.9, (6,0), algs_to_test, \n",
    "    weight_function_d_and_time_sep3,\n",
    "    fewest_nodes_per_add=1, max_nodes_per_add=6,\n",
    "    p_buyer=0.5, num_runs=500, size=(10,10), recalc=True)\n",
    "    "
   ]
  },
  {
   "cell_type": "code",
   "execution_count": 58,
   "metadata": {},
   "outputs": [
    {
     "name": "stdout",
     "output_type": "stream",
     "text": [
      "\n",
      " algorithm &  Greedy &  DDA &  Lookahead(1) &  Lookahead(3) &  Lookahead(5) \\\\\n",
      " Avg weight per matching &  0.6554656408291908 &  0.5698972137486943 &  0.5757939300877712 &  0.5785427248419591 &  0.5699060513831903 \\\\\n",
      " Avg weight per node &  0.4366812393878969 &  0.44238951517463443 &  0.45209900893645183 &  0.46917225648506233 &  0.4589442109152049 \\\\\n",
      " $\\sigma$ weight per node &  0.40409672178766026 &  0.36249405507824695 &  0.3669711568681779 &  0.35981151959103197 &  0.353345537628684 \\\\\n",
      "\n",
      "\n",
      " algorithm &  Greedy &  DDA &  Lookahead(1) &  Lookahead(3) &  Lookahead(5) \\\\\n",
      " Discarded buyers &  17.806364251861883 &  12.346521145975444 &  9.059711736444749 &  10.08684034736139 &  10.66225165562914 \\\\\n",
      " Discarded sellers &  15.572105619498984 &  10.027285129604365 &  12.422786547700754 &  8.817635270541082 &  8.80794701986755 \\\\"
     ]
    }
   ],
   "source": [
    "make_dataframe(results_time_sep_1)\n",
    "print_some_more_things(results_time_sep_1)"
   ]
  },
  {
   "cell_type": "code",
   "execution_count": 59,
   "metadata": {},
   "outputs": [
    {
     "name": "stdout",
     "output_type": "stream",
     "text": [
      "\n",
      " algorithm &  Greedy &  DDA &  Lookahead(1) &  Lookahead(3) &  Lookahead(5) \\\\\n",
      " Avg weight per matching &  4.294584614907241 &  3.7320381994264746 &  3.8578350875161624 &  3.6245117935934412 &  3.5812595954334325 \\\\\n",
      " Avg weight per node &  2.3988282031646007 &  2.6671903436118556 &  2.7237800485183787 &  2.4932029435056275 &  2.529138132368243 \\\\\n",
      " $\\sigma$ weight per node &  2.912669323549763 &  2.975631835628251 &  3.0270815730223846 &  2.8643539697257143 &  2.8531364078931674 \\\\\n",
      "\n",
      "\n",
      " algorithm &  Greedy &  DDA &  Lookahead(1) &  Lookahead(3) &  Lookahead(5) \\\\\n",
      " Discarded buyers &  22.832561217736597 &  16.23641304347826 &  16.65560716655607 &  14.181577203445991 &  15.18361581920904 \\\\\n",
      " Discarded sellers &  21.31039046988749 &  12.296195652173912 &  12.74054412740544 &  17.0311464546057 &  14.194915254237289 \\\\"
     ]
    }
   ],
   "source": [
    "make_dataframe(results_time_sep_2)\n",
    "print_some_more_things(results_time_sep_2)"
   ]
  },
  {
   "cell_type": "code",
   "execution_count": 60,
   "metadata": {},
   "outputs": [
    {
     "name": "stdout",
     "output_type": "stream",
     "text": [
      "\n",
      " algorithm &  Greedy &  DDA &  Lookahead(1) &  Lookahead(3) &  Lookahead(5) \\\\\n",
      " Avg weight per matching &  0.34000863194636743 &  0.2922867471423604 &  0.3071590831693432 &  0.29059360459474365 &  0.3094370044424819 \\\\\n",
      " Avg weight per node &  0.2758690725731176 &  0.26044973925152587 &  0.271829553982071 &  0.26421127467158934 &  0.2697442792252126 \\\\\n",
      " $\\sigma$ weight per node &  0.17750550672252893 &  0.15113701358623755 &  0.154719656168405 &  0.1454229786257053 &  0.1560954445146997 \\\\\n",
      "\n",
      "\n",
      " algorithm &  Greedy &  DDA &  Lookahead(1) &  Lookahead(3) &  Lookahead(5) \\\\\n",
      " Discarded buyers &  11.156186612576064 &  5.511811023622047 &  7.171853856562923 &  4.606141522029373 &  8.059100067159168 \\\\\n",
      " Discarded sellers &  7.707910750507099 &  5.380577427821522 &  4.330175913396482 &  4.472630173564753 &  4.768300873069174 \\\\"
     ]
    }
   ],
   "source": [
    "make_dataframe(results_time_sep_3)\n",
    "print_some_more_things(results_time_sep_3)"
   ]
  },
  {
   "cell_type": "markdown",
   "metadata": {},
   "source": [
    "## Stochastic Departures"
   ]
  },
  {
   "cell_type": "code",
   "execution_count": 18,
   "metadata": {},
   "outputs": [],
   "source": [
    "algs_to_test = [\n",
    "    (\"dfa_stoch1\", algs.DynamicDeferredAcceptance(stochastic=True, guess=1)),\n",
    "    (\"dfa_stoch2\", algs.DynamicDeferredAcceptance(stochastic=True, guess=2)),\n",
    "    (\"dfa_stoch3\", algs.DynamicDeferredAcceptance(stochastic=True, guess=3)),\n",
    "    (\"dfa_stoch4\", algs.DynamicDeferredAcceptance(stochastic=True, guess=4)),\n",
    "    (\"dfa_stoch5\", algs.DynamicDeferredAcceptance(stochastic=True, guess=5)),\n",
    "    (\"dfa_stoch6\", algs.DynamicDeferredAcceptance(stochastic=True, guess=6)),\n",
    "    (\"dfa_stoch7\", algs.DynamicDeferredAcceptance(stochastic=True, guess=7)),\n",
    "\n",
    "]"
   ]
  },
  {
   "cell_type": "markdown",
   "metadata": {},
   "source": [
    "### Stochastic departures, pure distance weight function, balanced market"
   ]
  },
  {
   "cell_type": "code",
   "execution_count": 19,
   "metadata": {},
   "outputs": [
    {
     "name": "stdout",
     "output_type": "stream",
     "text": [
      "\n",
      "Seed: 0\n",
      "The dfa_stoch1 algorithm had an average weight of 0.2654739960133779\n",
      "The dfa_stoch2 algorithm had an average weight of 0.2743625961173086\n",
      "The dfa_stoch3 algorithm had an average weight of 0.3179032984951585\n",
      "The dfa_stoch4 algorithm had an average weight of 0.33603642493799574\n",
      "The dfa_stoch5 algorithm had an average weight of 0.35028197365102415\n",
      "The dfa_stoch6 algorithm had an average weight of 0.3139059122991893\n",
      "The dfa_stoch7 algorithm had an average weight of 0.3301116344772831\n"
     ]
    }
   ],
   "source": [
    "results1s = {}\n",
    "for seed in range(0,1):\n",
    "    print(\"\\nSeed:\", seed)\n",
    "    results1s[seed] = run_an_experiment(seed, 0.9, (6,1), algs_to_test, weight_function_distance,\n",
    "                      fewest_nodes_per_add=1, max_nodes_per_add=6,\n",
    "                      p_buyer=0.5, num_runs=500, size=(10,10))"
   ]
  },
  {
   "cell_type": "code",
   "execution_count": 55,
   "metadata": {},
   "outputs": [
    {
     "name": "stdout",
     "output_type": "stream",
     "text": [
      "\n",
      " algorithm &  dfa_stoch1 &  dfa_stoch2 &  dfa_stoch3 &  dfa_stoch4 &  dfa_stoch5 &  dfa_stoch6 &  dfa_stoch7 \\\\\n",
      " Avg weight per matching &  0.2654739960133779 &  0.2743625961173086 &  0.3179032984951585 &  0.33603642493799574 &  0.35028197365102415 &  0.3139059122991893 &  0.3301116344772831 \\\\\n",
      " Avg weight per node &  0.2377800309807531 &  0.23532430119104264 &  0.2597736263657692 &  0.2459577884083642 &  0.19149702990328654 &  0.08228601584541856 &  0.016629176958011537 \\\\\n",
      " $\\sigma$ weight per node &  0.2603209510002502 &  0.24731687284532666 &  0.2791208122221734 &  0.28128575671977046 &  0.27317625503647636 &  0.19675329971662828 &  0.09969147272751411 \\\\\n",
      "\n",
      "\n",
      " algorithm &  dfa_stoch1 &  dfa_stoch2 &  dfa_stoch3 &  dfa_stoch4 &  dfa_stoch5 &  dfa_stoch6 &  dfa_stoch7 \\\\\n",
      " Discarded buyers &  7.176079734219269 &  6.382978723404255 &  6.96584058941728 &  14.449696151249157 &  24.062713019768236 &  38.41886269070735 &  48.53641933287951 \\\\\n",
      " Discarded sellers &  3.255813953488372 &  7.845744680851064 &  11.319490957803081 &  12.356515867656988 &  21.267893660531698 &  35.36754507628294 &  46.42614023144996 \\\\"
     ]
    }
   ],
   "source": [
    "make_dataframe(results1s)\n",
    "print_some_more_things(results1s)"
   ]
  },
  {
   "cell_type": "markdown",
   "metadata": {},
   "source": [
    "### Stochastic departures, pure distance weight function, p_buyer = 0.3"
   ]
  },
  {
   "cell_type": "code",
   "execution_count": 21,
   "metadata": {},
   "outputs": [
    {
     "name": "stdout",
     "output_type": "stream",
     "text": [
      "\n",
      "Seed: 0\n",
      "The dfa_stoch1 algorithm had an average weight of 0.3260852214630013\n",
      "The dfa_stoch2 algorithm had an average weight of 0.35806851581021415\n",
      "The dfa_stoch3 algorithm had an average weight of 0.3717176697843527\n",
      "The dfa_stoch4 algorithm had an average weight of 0.3829766681861378\n",
      "The dfa_stoch5 algorithm had an average weight of 0.406540457716855\n",
      "The dfa_stoch6 algorithm had an average weight of 0.361362580041102\n",
      "The dfa_stoch7 algorithm had an average weight of 0.40223398001175775\n"
     ]
    }
   ],
   "source": [
    "results_pbs = {}\n",
    "for seed in range(0,1):\n",
    "    print(\"\\nSeed:\", seed)\n",
    "    results_pbs[seed] = run_an_experiment(seed, 0.9, (6,1), algs_to_test, weight_function_distance,\n",
    "                      fewest_nodes_per_add=1, max_nodes_per_add=6,\n",
    "                      p_buyer=0.3, num_runs=500, size=(10,10))"
   ]
  },
  {
   "cell_type": "code",
   "execution_count": 56,
   "metadata": {},
   "outputs": [
    {
     "name": "stdout",
     "output_type": "stream",
     "text": [
      "\n",
      " algorithm &  dfa_stoch1 &  dfa_stoch2 &  dfa_stoch3 &  dfa_stoch4 &  dfa_stoch5 &  dfa_stoch6 &  dfa_stoch7 \\\\\n",
      " Avg weight per matching &  0.3260852214630013 &  0.35806851581021415 &  0.3717176697843527 &  0.3829766681861378 &  0.406540457716855 &  0.361362580041102 &  0.40223398001175775 \\\\\n",
      " Avg weight per node &  0.1942915307439268 &  0.20643620678145494 &  0.2187443941474521 &  0.186717244287383 &  0.1568434719657793 &  0.06426420712085261 &  0.014735844586590854 \\\\\n",
      " $\\sigma$ weight per node &  0.25416109751563964 &  0.27181466752141564 &  0.27984026808120765 &  0.2653032831245992 &  0.2586259131308391 &  0.18356142048625454 &  0.09547445653209588 \\\\\n",
      "\n",
      "\n",
      " algorithm &  dfa_stoch1 &  dfa_stoch2 &  dfa_stoch3 &  dfa_stoch4 &  dfa_stoch5 &  dfa_stoch6 &  dfa_stoch7 \\\\\n",
      " Discarded buyers &  0.0 &  0.27453671928620454 &  1.9218025182239893 &  5.589225589225589 &  9.310113864701943 &  20.177838577291382 &  29.17232021709634 \\\\\n",
      " Discarded sellers &  40.41694687289845 &  42.072752230610845 &  39.23127899271041 &  45.656565656565654 &  52.1098459477562 &  62.03830369357045 &  67.16417910447761 \\\\"
     ]
    }
   ],
   "source": [
    "make_dataframe(results_pbs)\n",
    "print_some_more_things(results_pbs)"
   ]
  },
  {
   "cell_type": "markdown",
   "metadata": {},
   "source": [
    "### Stochastic departures, pure distance weight function, p_buyer = 0.7"
   ]
  },
  {
   "cell_type": "code",
   "execution_count": 23,
   "metadata": {},
   "outputs": [
    {
     "name": "stdout",
     "output_type": "stream",
     "text": [
      "\n",
      "Seed: 0\n",
      "The dfa_stoch1 algorithm had an average weight of 0.3533898264498524\n",
      "The dfa_stoch2 algorithm had an average weight of 0.33943177035648775\n",
      "The dfa_stoch3 algorithm had an average weight of 0.3349150602668556\n",
      "The dfa_stoch4 algorithm had an average weight of 0.33720871190691193\n",
      "The dfa_stoch5 algorithm had an average weight of 0.33705020073486525\n",
      "The dfa_stoch6 algorithm had an average weight of 0.33169627601198626\n",
      "The dfa_stoch7 algorithm had an average weight of 0.43304843304843305\n"
     ]
    }
   ],
   "source": [
    "results_pb2s = {}\n",
    "for seed in range(0,1):\n",
    "    print(\"\\nSeed:\", seed)\n",
    "    results_pb2s[seed] = run_an_experiment(seed, 0.9, (6,1), algs_to_test, weight_function_distance,\n",
    "                      fewest_nodes_per_add=1, max_nodes_per_add=6,\n",
    "                      p_buyer=0.7, num_runs=500, size=(10,10))"
   ]
  },
  {
   "cell_type": "code",
   "execution_count": 57,
   "metadata": {},
   "outputs": [
    {
     "name": "stdout",
     "output_type": "stream",
     "text": [
      "\n",
      " algorithm &  dfa_stoch1 &  dfa_stoch2 &  dfa_stoch3 &  dfa_stoch4 &  dfa_stoch5 &  dfa_stoch6 &  dfa_stoch7 \\\\\n",
      " Avg weight per matching &  0.3533898264498524 &  0.33943177035648775 &  0.3349150602668556 &  0.33720871190691193 &  0.33705020073486525 &  0.33169627601198626 &  0.43304843304843305 \\\\\n",
      " Avg weight per node &  0.2143898280462438 &  0.20365906221389266 &  0.20320689049899104 &  0.19081299423764775 &  0.13332403501653284 &  0.05604840120978161 &  0.015455400493149292 \\\\\n",
      " $\\sigma$ weight per node &  0.2772579122295997 &  0.26366653336579216 &  0.2751395722548372 &  0.2630876243870447 &  0.22824334675633592 &  0.15865433910330692 &  0.10071183690143187 \\\\\n",
      "\n",
      "\n",
      " algorithm &  dfa_stoch1 &  dfa_stoch2 &  dfa_stoch3 &  dfa_stoch4 &  dfa_stoch5 &  dfa_stoch6 &  dfa_stoch7 \\\\\n",
      " Discarded buyers &  39.333333333333336 &  40.0 &  38.83426966292135 &  40.92741935483871 &  50.652741514360315 &  60.80332409972299 &  67.67330130404942 \\\\\n",
      " Discarded sellers &  0.0 &  0.0 &  0.49157303370786515 &  2.486559139784946 &  9.7911227154047 &  22.299168975069254 &  28.757721345229925 \\\\"
     ]
    }
   ],
   "source": [
    "make_dataframe(results_pb2s)\n",
    "print_some_more_things(results_pb2s)"
   ]
  },
  {
   "cell_type": "markdown",
   "metadata": {},
   "source": [
    "### Stochastic departures, time and distance weight function(s), balanced market"
   ]
  },
  {
   "cell_type": "code",
   "execution_count": null,
   "metadata": {},
   "outputs": [],
   "source": [
    "results_time_sep_1s = {}\n",
    "results_time_sep_2s = {}\n",
    "results_time_sep_3s = {}\n",
    "seed = 0\n",
    "results_time_sep_1s[seed] = run_an_experiment(\n",
    "    seed, 0.9, (6,1), algs_to_test, \n",
    "    weight_function_d_and_time_sep1,\n",
    "    fewest_nodes_per_add=1, max_nodes_per_add=6,\n",
    "    p_buyer=0.5, num_runs=500, size=(10,10), recalc=True)\n",
    "results_time_sep_2s[seed] = run_an_experiment(\n",
    "    seed, 0.9, (6,1), algs_to_test, \n",
    "    weight_function_d_and_time_sep2,\n",
    "    fewest_nodes_per_add=1, max_nodes_per_add=6,\n",
    "    p_buyer=0.5, num_runs=500, size=(10,10), recalc=True)\n",
    "results_time_sep_3s[seed] = run_an_experiment(\n",
    "    seed, 0.9, (6,1), algs_to_test, \n",
    "    weight_function_d_and_time_sep3,\n",
    "    fewest_nodes_per_add=1, max_nodes_per_add=6,\n",
    "    p_buyer=0.5, num_runs=500, size=(10,10), recalc=True)\n",
    "    "
   ]
  },
  {
   "cell_type": "code",
   "execution_count": null,
   "metadata": {},
   "outputs": [],
   "source": [
    "make_dataframe(results_time_sep_1)"
   ]
  },
  {
   "cell_type": "code",
   "execution_count": null,
   "metadata": {},
   "outputs": [],
   "source": [
    "make_dataframe(results_time_sep_2)"
   ]
  },
  {
   "cell_type": "code",
   "execution_count": null,
   "metadata": {},
   "outputs": [],
   "source": [
    "make_dataframe(results_time_sep_3)"
   ]
  },
  {
   "cell_type": "markdown",
   "metadata": {},
   "source": [
    "# ALL BELOW IS OLD DONT NEED"
   ]
  },
  {
   "cell_type": "markdown",
   "metadata": {},
   "source": [
    "# Experiment 1: Greedy Vs Deferred Vs Lookahead\n",
    "-- batch saved for later"
   ]
  },
  {
   "cell_type": "code",
   "execution_count": 2,
   "metadata": {},
   "outputs": [],
   "source": [
    "def weight_function_distance(buyer_pos, buyer_d, seller_pos, seller_d):\n",
    "    bx, by = buyer_pos\n",
    "    sx, sy = seller_pos\n",
    "    return 1/(1 + (bx-sx)**2 + (by-sy)**2)"
   ]
  },
  {
   "cell_type": "code",
   "execution_count": 3,
   "metadata": {},
   "outputs": [],
   "source": [
    "departure_distr = (6,1) # mean, var\n",
    "seed = 42\n",
    "p_node = 1 # add a node every step\n",
    "num_runs = 1000"
   ]
  },
  {
   "cell_type": "code",
   "execution_count": 4,
   "metadata": {},
   "outputs": [],
   "source": [
    "algs_to_test = [\n",
    "    (\"greedy\", algs.Greedy()),\n",
    "    (\"dfa\", algs.DynamicDeferredAcceptance()),\n",
    "    (\"lookahead1\", algs.DeferredWithLookAhead(1)),\n",
    "    (\"lookahead3\", algs.DeferredWithLookAhead(3)),\n",
    "    (\"lookahead5\", algs.DeferredWithLookAhead(5))\n",
    "]"
   ]
  },
  {
   "cell_type": "markdown",
   "metadata": {},
   "source": [
    "## actually run one of the experiments"
   ]
  },
  {
   "cell_type": "code",
   "execution_count": 5,
   "metadata": {},
   "outputs": [],
   "source": [
    "results = {}\n",
    "for (alg_name, alg) in algs_to_test:\n",
    "    inter = interface.Interface(\n",
    "        alg,\n",
    "        simulator.Simulator(weight_function_distance),\n",
    "        p_node=p_node,\n",
    "        seed=seed,\n",
    "        dep_distr=departure_distr,\n",
    "        verbose=False)\n",
    "    results[alg_name] = inter.run(num_runs)"
   ]
  },
  {
   "cell_type": "code",
   "execution_count": 6,
   "metadata": {},
   "outputs": [
    {
     "name": "stdout",
     "output_type": "stream",
     "text": [
      "The greedy algorithm had an average weight of 0.24491590695078122\n",
      "The dfa algorithm had an average weight of 0.20909926414303612\n",
      "The lookahead1 algorithm had an average weight of 0.20909926414303612\n",
      "The lookahead3 algorithm had an average weight of 0.20909926414303612\n",
      "The lookahead5 algorithm had an average weight of 0.20909926414303612\n"
     ]
    }
   ],
   "source": [
    "for alg_name, res in results.items():\n",
    "    average_weight =  np.mean([w[0] for w in res[0]])\n",
    "    print(\"The {} algorithm had an average weight of {}\".format(alg_name, average_weight))\n"
   ]
  },
  {
   "cell_type": "markdown",
   "metadata": {},
   "source": [
    "### Stochastic departures, pure distance weight function, balanced market"
   ]
  },
  {
   "cell_type": "code",
   "execution_count": 50,
   "metadata": {},
   "outputs": [],
   "source": [
    "def weight_function_d_and_time(buyer_pos, buyer_d, seller_pos, seller_d):\n",
    "    bx, by = buyer_pos\n",
    "    sx, sy = seller_pos\n",
    "    return 1/(buyer_d + seller_d) + 1/(1 + (bx-sx)**2 + (by-sy)**2)"
   ]
  },
  {
   "cell_type": "markdown",
   "metadata": {},
   "source": [
    "## This is not the right function I was thinking of. Need a node->time_waiting variable somehow.\n",
    "Requires redefining the way sim works, which I just don't have the energy for at the moment. I added the functionality to interface, where it returns the original weight times of matches. So we can do something with that after the fact (it wont be considered by algorithms). We may also want to check something like average market density - how many buyers/sellers present on average?"
   ]
  },
  {
   "cell_type": "code",
   "execution_count": 51,
   "metadata": {},
   "outputs": [
    {
     "name": "stdout",
     "output_type": "stream",
     "text": [
      "\n",
      "Seed: 0\n",
      "The greedy algorithm had an average weight of 0.6463097067526424\n",
      "The dfa algorithm had an average weight of 0.5816600029480353\n",
      "The lookahead1 algorithm had an average weight of 0.5664907397123319\n",
      "The lookahead3 algorithm had an average weight of 0.5579948016329812\n",
      "The lookahead5 algorithm had an average weight of 0.5617073168021807\n"
     ]
    }
   ],
   "source": [
    "results2 = {}\n",
    "for seed in range(0,1):\n",
    "    print(\"\\nSeed:\", seed)\n",
    "    results2[seed] = run_an_experiment(seed, 0.9, (6,1), algs_to_test, \n",
    "                                      weight_function_d_and_time,\n",
    "                      fewest_nodes_per_add=1, max_nodes_per_add=6,\n",
    "                      p_buyer=0.5, num_runs=500, size=(10,10), recalc=True)"
   ]
  },
  {
   "cell_type": "code",
   "execution_count": 14,
   "metadata": {},
   "outputs": [
    {
     "name": "stdout",
     "output_type": "stream",
     "text": [
      "\n",
      "Seed: 0\n",
      "The greedy algorithm had an average weight of 0.40546144184371596\n",
      "The dfa algorithm had an average weight of 0.3351302825061359\n",
      "The lookahead1 algorithm had an average weight of 0.3294195681049279\n",
      "The lookahead3 algorithm had an average weight of 0.3224638864337961\n",
      "The lookahead5 algorithm had an average weight of 0.31191482275708227\n"
     ]
    }
   ],
   "source": [
    "results3 = {}\n",
    "for seed in range(0,1):\n",
    "    print(\"\\nSeed:\", seed)\n",
    "    results3[seed] = run_an_experiment(seed, 0.9, (6,1), algs_to_test, \n",
    "                                       weight_function_distance,\n",
    "                      fewest_nodes_per_add=1, max_nodes_per_add=6,\n",
    "                      p_buyer=0.6, num_runs=500, size=(10,10))"
   ]
  },
  {
   "cell_type": "code",
   "execution_count": 15,
   "metadata": {},
   "outputs": [
    {
     "name": "stdout",
     "output_type": "stream",
     "text": [
      "\n",
      "Seed: 0\n",
      "The greedy algorithm had an average weight of 0.419900959921543\n",
      "The dfa algorithm had an average weight of 0.3706649418372094\n",
      "The lookahead1 algorithm had an average weight of 0.37394344520351547\n",
      "The lookahead3 algorithm had an average weight of 0.39198270309944017\n",
      "The lookahead5 algorithm had an average weight of 0.37259464913667545\n"
     ]
    }
   ],
   "source": [
    "results4 = {}\n",
    "for seed in range(0,1):\n",
    "    print(\"\\nSeed:\", seed)\n",
    "    results4[seed] = run_an_experiment(seed, 0.9, (6,1), algs_to_test, \n",
    "                                       weight_function_distance,\n",
    "                      fewest_nodes_per_add=1, max_nodes_per_add=6,\n",
    "                      p_buyer=0.4, num_runs=500, size=(10,10))"
   ]
  },
  {
   "cell_type": "code",
   "execution_count": 49,
   "metadata": {},
   "outputs": [
    {
     "name": "stdout",
     "output_type": "stream",
     "text": [
      "Seed: 0\n",
      "Alg: greedy\n",
      "Average weight per matching: 0.41633861974262093\n",
      "Average weight per node: 0.2215225066557632\n",
      "Number of nodes: 1481, matches: 394\n",
      "Number of dropped buyers: 355, sellers: 338\n",
      "Alg: dfa\n",
      "Average weight per matching: 0.36551927356512703\n",
      "Average weight per node: 0.23315015392014277\n",
      "Number of nodes: 1458, matches: 465\n",
      "Number of dropped buyers: 235, sellers: 293\n",
      "Alg: lookahead1\n",
      "Average weight per matching: 0.35046899716758073\n",
      "Average weight per node: 0.23271513756147458\n",
      "Number of nodes: 1506, matches: 500\n",
      "Number of dropped buyers: 246, sellers: 260\n",
      "Alg: lookahead3\n",
      "Average weight per matching: 0.37637846161267574\n",
      "Average weight per node: 0.25008201985738826\n",
      "Number of nodes: 1499, matches: 498\n",
      "Number of dropped buyers: 264, sellers: 239\n",
      "Alg: lookahead5\n",
      "Average weight per matching: 0.3353204734573441\n",
      "Average weight per node: 0.22142948720863861\n",
      "Number of nodes: 1478, matches: 488\n",
      "Number of dropped buyers: 256, sellers: 246\n",
      "\n",
      " algorithm &  greedy &  dfa &  lookahead1 &  lookahead3 &  lookahead5\n",
      " Avg weight matching &  0.41633861974262093 &  0.36551927356512703 &  0.35046899716758073 &  0.37637846161267574 &  0.3353204734573441\n",
      " Avg weight per node &  0.2215225066557632 &  0.23315015392014277 &  0.23271513756147458 &  0.25008201985738826 &  0.22142948720863861\n",
      " Standard Deviation Weight Per Node &  0.2811742516221996 &  0.28952918888812246 &  0.28801555091520487 &  0.2876519435275518 &  0.27642142880483045\n",
      "\n",
      "\n",
      " algorithm &  greedy &  dfa &  lookahead1 &  lookahead3 &  lookahead5\n",
      " Discarded buyers &  23.970290344361917 &  16.117969821673526 &  16.334661354581673 &  17.61174116077385 &  17.320703653585927\n",
      " Discarded sellers &  22.822417285617824 &  20.0960219478738 &  17.264276228419654 &  15.943962641761175 &  16.644113667117725"
     ]
    }
   ],
   "source": [
    "print_some_things(results1)\n",
    "print_some_more_things(results1)"
   ]
  },
  {
   "cell_type": "code",
   "execution_count": null,
   "metadata": {},
   "outputs": [],
   "source": [
    "print_some_things(results2)"
   ]
  },
  {
   "cell_type": "code",
   "execution_count": null,
   "metadata": {},
   "outputs": [],
   "source": [
    "print_some_things(results3)"
   ]
  },
  {
   "cell_type": "code",
   "execution_count": null,
   "metadata": {},
   "outputs": [],
   "source": [
    "print_some_things(results4)"
   ]
  },
  {
   "cell_type": "code",
   "execution_count": null,
   "metadata": {},
   "outputs": [],
   "source": [
    "import pandas as pd"
   ]
  },
  {
   "cell_type": "code",
   "execution_count": 85,
   "metadata": {},
   "outputs": [
    {
     "data": {
      "text/html": [
       "<div>\n",
       "<style>\n",
       "    .dataframe thead tr:only-child th {\n",
       "        text-align: right;\n",
       "    }\n",
       "\n",
       "    .dataframe thead th {\n",
       "        text-align: left;\n",
       "    }\n",
       "\n",
       "    .dataframe tbody tr th {\n",
       "        vertical-align: top;\n",
       "    }\n",
       "</style>\n",
       "<table border=\"1\" class=\"dataframe\">\n",
       "  <thead>\n",
       "    <tr style=\"text-align: right;\">\n",
       "      <th></th>\n",
       "      <th>dfa</th>\n",
       "      <th>greedy</th>\n",
       "      <th>lookahead1</th>\n",
       "      <th>lookahead3</th>\n",
       "      <th>lookahead5</th>\n",
       "    </tr>\n",
       "  </thead>\n",
       "  <tbody>\n",
       "    <tr>\n",
       "      <th>avg_weight_matching</th>\n",
       "      <td>0.365519</td>\n",
       "      <td>0.416339</td>\n",
       "      <td>0.350469</td>\n",
       "      <td>0.376378</td>\n",
       "      <td>0.335320</td>\n",
       "    </tr>\n",
       "    <tr>\n",
       "      <th>avg_weight_per_node</th>\n",
       "      <td>0.233150</td>\n",
       "      <td>0.221523</td>\n",
       "      <td>0.232715</td>\n",
       "      <td>0.250082</td>\n",
       "      <td>0.221429</td>\n",
       "    </tr>\n",
       "    <tr>\n",
       "      <th>num_discarded_buyers</th>\n",
       "      <td>235.000000</td>\n",
       "      <td>355.000000</td>\n",
       "      <td>246.000000</td>\n",
       "      <td>264.000000</td>\n",
       "      <td>256.000000</td>\n",
       "    </tr>\n",
       "    <tr>\n",
       "      <th>num_discarded_sellers</th>\n",
       "      <td>293.000000</td>\n",
       "      <td>338.000000</td>\n",
       "      <td>260.000000</td>\n",
       "      <td>239.000000</td>\n",
       "      <td>246.000000</td>\n",
       "    </tr>\n",
       "    <tr>\n",
       "      <th>weight_per_node_stddev</th>\n",
       "      <td>0.289529</td>\n",
       "      <td>0.281174</td>\n",
       "      <td>0.288016</td>\n",
       "      <td>0.287652</td>\n",
       "      <td>0.276421</td>\n",
       "    </tr>\n",
       "  </tbody>\n",
       "</table>\n",
       "</div>"
      ],
      "text/plain": [
       "                               dfa      greedy  lookahead1  lookahead3  \\\n",
       "avg_weight_matching       0.365519    0.416339    0.350469    0.376378   \n",
       "avg_weight_per_node       0.233150    0.221523    0.232715    0.250082   \n",
       "num_discarded_buyers    235.000000  355.000000  246.000000  264.000000   \n",
       "num_discarded_sellers   293.000000  338.000000  260.000000  239.000000   \n",
       "weight_per_node_stddev    0.289529    0.281174    0.288016    0.287652   \n",
       "\n",
       "                        lookahead5  \n",
       "avg_weight_matching       0.335320  \n",
       "avg_weight_per_node       0.221429  \n",
       "num_discarded_buyers    256.000000  \n",
       "num_discarded_sellers   246.000000  \n",
       "weight_per_node_stddev    0.276421  "
      ]
     },
     "execution_count": 85,
     "metadata": {},
     "output_type": "execute_result"
    }
   ],
   "source": [
    "make_dataframe(results1)"
   ]
  },
  {
   "cell_type": "code",
   "execution_count": 86,
   "metadata": {},
   "outputs": [
    {
     "data": {
      "text/html": [
       "<div>\n",
       "<style>\n",
       "    .dataframe thead tr:only-child th {\n",
       "        text-align: right;\n",
       "    }\n",
       "\n",
       "    .dataframe thead th {\n",
       "        text-align: left;\n",
       "    }\n",
       "\n",
       "    .dataframe tbody tr th {\n",
       "        vertical-align: top;\n",
       "    }\n",
       "</style>\n",
       "<table border=\"1\" class=\"dataframe\">\n",
       "  <thead>\n",
       "    <tr style=\"text-align: right;\">\n",
       "      <th></th>\n",
       "      <th>dfa</th>\n",
       "      <th>greedy</th>\n",
       "      <th>lookahead1</th>\n",
       "      <th>lookahead3</th>\n",
       "      <th>lookahead5</th>\n",
       "    </tr>\n",
       "  </thead>\n",
       "  <tbody>\n",
       "    <tr>\n",
       "      <th>avg_weight_matching</th>\n",
       "      <td>1.723709</td>\n",
       "      <td>2.522205</td>\n",
       "      <td>1.918842</td>\n",
       "      <td>1.622225</td>\n",
       "      <td>1.749847</td>\n",
       "    </tr>\n",
       "    <tr>\n",
       "      <th>avg_weight_per_node</th>\n",
       "      <td>0.992229</td>\n",
       "      <td>0.875017</td>\n",
       "      <td>1.018786</td>\n",
       "      <td>0.933001</td>\n",
       "      <td>0.957687</td>\n",
       "    </tr>\n",
       "    <tr>\n",
       "      <th>num_discarded_buyers</th>\n",
       "      <td>326.000000</td>\n",
       "      <td>499.000000</td>\n",
       "      <td>338.000000</td>\n",
       "      <td>327.000000</td>\n",
       "      <td>333.000000</td>\n",
       "    </tr>\n",
       "    <tr>\n",
       "      <th>num_discarded_sellers</th>\n",
       "      <td>308.000000</td>\n",
       "      <td>510.000000</td>\n",
       "      <td>367.000000</td>\n",
       "      <td>295.000000</td>\n",
       "      <td>337.000000</td>\n",
       "    </tr>\n",
       "    <tr>\n",
       "      <th>weight_per_node_stddev</th>\n",
       "      <td>1.487960</td>\n",
       "      <td>1.568882</td>\n",
       "      <td>1.598831</td>\n",
       "      <td>1.392321</td>\n",
       "      <td>1.467428</td>\n",
       "    </tr>\n",
       "  </tbody>\n",
       "</table>\n",
       "</div>"
      ],
      "text/plain": [
       "                               dfa      greedy  lookahead1  lookahead3  \\\n",
       "avg_weight_matching       1.723709    2.522205    1.918842    1.622225   \n",
       "avg_weight_per_node       0.992229    0.875017    1.018786    0.933001   \n",
       "num_discarded_buyers    326.000000  499.000000  338.000000  327.000000   \n",
       "num_discarded_sellers   308.000000  510.000000  367.000000  295.000000   \n",
       "weight_per_node_stddev    1.487960    1.568882    1.598831    1.392321   \n",
       "\n",
       "                        lookahead5  \n",
       "avg_weight_matching       1.749847  \n",
       "avg_weight_per_node       0.957687  \n",
       "num_discarded_buyers    333.000000  \n",
       "num_discarded_sellers   337.000000  \n",
       "weight_per_node_stddev    1.467428  "
      ]
     },
     "execution_count": 86,
     "metadata": {},
     "output_type": "execute_result"
    }
   ],
   "source": [
    "make_dataframe(results2)"
   ]
  },
  {
   "cell_type": "code",
   "execution_count": 87,
   "metadata": {},
   "outputs": [
    {
     "data": {
      "text/html": [
       "<div>\n",
       "<style>\n",
       "    .dataframe thead tr:only-child th {\n",
       "        text-align: right;\n",
       "    }\n",
       "\n",
       "    .dataframe thead th {\n",
       "        text-align: left;\n",
       "    }\n",
       "\n",
       "    .dataframe tbody tr th {\n",
       "        vertical-align: top;\n",
       "    }\n",
       "</style>\n",
       "<table border=\"1\" class=\"dataframe\">\n",
       "  <thead>\n",
       "    <tr style=\"text-align: right;\">\n",
       "      <th></th>\n",
       "      <th>dfa</th>\n",
       "      <th>greedy</th>\n",
       "      <th>lookahead1</th>\n",
       "      <th>lookahead3</th>\n",
       "      <th>lookahead5</th>\n",
       "    </tr>\n",
       "  </thead>\n",
       "  <tbody>\n",
       "    <tr>\n",
       "      <th>avg_weight_matching</th>\n",
       "      <td>0.353160</td>\n",
       "      <td>0.421139</td>\n",
       "      <td>0.321842</td>\n",
       "      <td>0.345222</td>\n",
       "      <td>0.325247</td>\n",
       "    </tr>\n",
       "    <tr>\n",
       "      <th>avg_weight_per_node</th>\n",
       "      <td>0.236692</td>\n",
       "      <td>0.214942</td>\n",
       "      <td>0.222814</td>\n",
       "      <td>0.236299</td>\n",
       "      <td>0.225655</td>\n",
       "    </tr>\n",
       "    <tr>\n",
       "      <th>num_discarded_buyers</th>\n",
       "      <td>393.000000</td>\n",
       "      <td>541.000000</td>\n",
       "      <td>402.000000</td>\n",
       "      <td>375.000000</td>\n",
       "      <td>386.000000</td>\n",
       "    </tr>\n",
       "    <tr>\n",
       "      <th>num_discarded_sellers</th>\n",
       "      <td>103.000000</td>\n",
       "      <td>190.000000</td>\n",
       "      <td>62.000000</td>\n",
       "      <td>109.000000</td>\n",
       "      <td>73.000000</td>\n",
       "    </tr>\n",
       "    <tr>\n",
       "      <th>weight_per_node_stddev</th>\n",
       "      <td>0.286587</td>\n",
       "      <td>0.286497</td>\n",
       "      <td>0.260082</td>\n",
       "      <td>0.287262</td>\n",
       "      <td>0.274015</td>\n",
       "    </tr>\n",
       "  </tbody>\n",
       "</table>\n",
       "</div>"
      ],
      "text/plain": [
       "                               dfa      greedy  lookahead1  lookahead3  \\\n",
       "avg_weight_matching       0.353160    0.421139    0.321842    0.345222   \n",
       "avg_weight_per_node       0.236692    0.214942    0.222814    0.236299   \n",
       "num_discarded_buyers    393.000000  541.000000  402.000000  375.000000   \n",
       "num_discarded_sellers   103.000000  190.000000   62.000000  109.000000   \n",
       "weight_per_node_stddev    0.286587    0.286497    0.260082    0.287262   \n",
       "\n",
       "                        lookahead5  \n",
       "avg_weight_matching       0.325247  \n",
       "avg_weight_per_node       0.225655  \n",
       "num_discarded_buyers    386.000000  \n",
       "num_discarded_sellers    73.000000  \n",
       "weight_per_node_stddev    0.274015  "
      ]
     },
     "execution_count": 87,
     "metadata": {},
     "output_type": "execute_result"
    }
   ],
   "source": [
    "make_dataframe(results3)"
   ]
  },
  {
   "cell_type": "code",
   "execution_count": 88,
   "metadata": {},
   "outputs": [
    {
     "data": {
      "text/html": [
       "<div>\n",
       "<style>\n",
       "    .dataframe thead tr:only-child th {\n",
       "        text-align: right;\n",
       "    }\n",
       "\n",
       "    .dataframe thead th {\n",
       "        text-align: left;\n",
       "    }\n",
       "\n",
       "    .dataframe tbody tr th {\n",
       "        vertical-align: top;\n",
       "    }\n",
       "</style>\n",
       "<table border=\"1\" class=\"dataframe\">\n",
       "  <thead>\n",
       "    <tr style=\"text-align: right;\">\n",
       "      <th></th>\n",
       "      <th>dfa</th>\n",
       "      <th>greedy</th>\n",
       "      <th>lookahead1</th>\n",
       "      <th>lookahead3</th>\n",
       "      <th>lookahead5</th>\n",
       "    </tr>\n",
       "  </thead>\n",
       "  <tbody>\n",
       "    <tr>\n",
       "      <th>avg_weight_matching</th>\n",
       "      <td>0.368299</td>\n",
       "      <td>0.425981</td>\n",
       "      <td>0.376506</td>\n",
       "      <td>0.366633</td>\n",
       "      <td>0.365031</td>\n",
       "    </tr>\n",
       "    <tr>\n",
       "      <th>avg_weight_per_node</th>\n",
       "      <td>0.204695</td>\n",
       "      <td>0.211707</td>\n",
       "      <td>0.227772</td>\n",
       "      <td>0.204260</td>\n",
       "      <td>0.209622</td>\n",
       "    </tr>\n",
       "    <tr>\n",
       "      <th>num_discarded_buyers</th>\n",
       "      <td>170.000000</td>\n",
       "      <td>261.000000</td>\n",
       "      <td>170.000000</td>\n",
       "      <td>154.000000</td>\n",
       "      <td>167.000000</td>\n",
       "    </tr>\n",
       "    <tr>\n",
       "      <th>num_discarded_sellers</th>\n",
       "      <td>479.000000</td>\n",
       "      <td>490.000000</td>\n",
       "      <td>419.000000</td>\n",
       "      <td>474.000000</td>\n",
       "      <td>478.000000</td>\n",
       "    </tr>\n",
       "    <tr>\n",
       "      <th>weight_per_node_stddev</th>\n",
       "      <td>0.283773</td>\n",
       "      <td>0.280262</td>\n",
       "      <td>0.289507</td>\n",
       "      <td>0.271003</td>\n",
       "      <td>0.272604</td>\n",
       "    </tr>\n",
       "  </tbody>\n",
       "</table>\n",
       "</div>"
      ],
      "text/plain": [
       "                               dfa      greedy  lookahead1  lookahead3  \\\n",
       "avg_weight_matching       0.368299    0.425981    0.376506    0.366633   \n",
       "avg_weight_per_node       0.204695    0.211707    0.227772    0.204260   \n",
       "num_discarded_buyers    170.000000  261.000000  170.000000  154.000000   \n",
       "num_discarded_sellers   479.000000  490.000000  419.000000  474.000000   \n",
       "weight_per_node_stddev    0.283773    0.280262    0.289507    0.271003   \n",
       "\n",
       "                        lookahead5  \n",
       "avg_weight_matching       0.365031  \n",
       "avg_weight_per_node       0.209622  \n",
       "num_discarded_buyers    167.000000  \n",
       "num_discarded_sellers   478.000000  \n",
       "weight_per_node_stddev    0.272604  "
      ]
     },
     "execution_count": 88,
     "metadata": {},
     "output_type": "execute_result"
    }
   ],
   "source": [
    "make_dataframe(results4)"
   ]
  },
  {
   "cell_type": "code",
   "execution_count": 52,
   "metadata": {},
   "outputs": [
    {
     "name": "stdout",
     "output_type": "stream",
     "text": [
      "The greedy algorithm had an average weight of 0.6354579315602368\n",
      "The dfa algorithm had an average weight of 0.5686571465312509\n",
      "The lookahead1 algorithm had an average weight of 0.5857135500113714\n",
      "The lookahead3 algorithm had an average weight of 0.5650118552566059\n",
      "The lookahead5 algorithm had an average weight of 0.5851280193177804\n",
      "The greedy algorithm had an average weight of 13.571428571428573\n",
      "The dfa algorithm had an average weight of 9.30924901770836\n",
      "The lookahead1 algorithm had an average weight of 9.300296393740142\n",
      "The lookahead3 algorithm had an average weight of 8.81274239145854\n",
      "The lookahead5 algorithm had an average weight of 9.105122217703592\n",
      "The greedy algorithm had an average weight of 3.0621113039172743\n",
      "The dfa algorithm had an average weight of 3.0116454180699295\n",
      "The lookahead1 algorithm had an average weight of 2.7045084879156587\n",
      "The lookahead3 algorithm had an average weight of 3.209605479675927\n",
      "The lookahead5 algorithm had an average weight of 3.020805166616104\n"
     ]
    }
   ],
   "source": [
    "# difference is weighting of time / distance components.\n",
    "def weight_function_d_and_time_sep1(buyer_pos, buyer_d, seller_pos, seller_d):\n",
    "    bx, by = buyer_pos\n",
    "    sx, sy = seller_pos\n",
    "    return 1/(buyer_d + seller_d) + 1/(1 + (bx-sx)**2 + (by-sy)**2)\n",
    "def weight_function_d_and_time_sep2(buyer_pos, buyer_d, seller_pos, seller_d):\n",
    "    bx, by = buyer_pos\n",
    "    sx, sy = seller_pos\n",
    "    return (buyer_d + seller_d) + 10*1/(1 + (bx-sx)**2 + (by-sy)**2)\n",
    "def weight_function_d_and_time_sep3(buyer_pos, buyer_d, seller_pos, seller_d):\n",
    "    bx, by = buyer_pos\n",
    "    sx, sy = seller_pos\n",
    "    return 10/(buyer_d + seller_d) + 1/(1 + (bx-sx)**2 + (by-sy)**2)\n",
    "\n",
    "results_time_sep_1 = {}\n",
    "results_time_sep_2 = {}\n",
    "results_time_sep_3 = {}\n",
    "seed = 0\n",
    "results_time_sep_1[seed] = run_an_experiment(\n",
    "    seed, 0.9, (6,1), algs_to_test, \n",
    "    weight_function_d_and_time_sep1,\n",
    "    fewest_nodes_per_add=1, max_nodes_per_add=6,\n",
    "    p_buyer=0.5, num_runs=500, size=(10,10), recalc=True)\n",
    "results_time_sep_2[seed] = run_an_experiment(\n",
    "    seed, 0.9, (6,1), algs_to_test, \n",
    "    weight_function_d_and_time_sep2,\n",
    "    fewest_nodes_per_add=1, max_nodes_per_add=6,\n",
    "    p_buyer=0.5, num_runs=500, size=(10,10), recalc=True)\n",
    "results_time_sep_3[seed] = run_an_experiment(\n",
    "    seed, 0.9, (6,1), algs_to_test, \n",
    "    weight_function_d_and_time_sep3,\n",
    "    fewest_nodes_per_add=1, max_nodes_per_add=6,\n",
    "    p_buyer=0.5, num_runs=500, size=(10,10), recalc=True)\n",
    "    "
   ]
  },
  {
   "cell_type": "code",
   "execution_count": 91,
   "metadata": {},
   "outputs": [
    {
     "name": "stderr",
     "output_type": "stream",
     "text": [
      "/Users/Derek/anaconda3/lib/python3.6/site-packages/numpy/core/fromnumeric.py:2957: RuntimeWarning: Mean of empty slice.\n",
      "  out=out, **kwargs)\n",
      "/Users/Derek/anaconda3/lib/python3.6/site-packages/numpy/core/_methods.py:80: RuntimeWarning: invalid value encountered in double_scalars\n",
      "  ret = ret.dtype.type(ret / rcount)\n"
     ]
    },
    {
     "data": {
      "text/html": [
       "<div>\n",
       "<style>\n",
       "    .dataframe thead tr:only-child th {\n",
       "        text-align: right;\n",
       "    }\n",
       "\n",
       "    .dataframe thead th {\n",
       "        text-align: left;\n",
       "    }\n",
       "\n",
       "    .dataframe tbody tr th {\n",
       "        vertical-align: top;\n",
       "    }\n",
       "</style>\n",
       "<table border=\"1\" class=\"dataframe\">\n",
       "  <thead>\n",
       "    <tr style=\"text-align: right;\">\n",
       "      <th></th>\n",
       "      <th>dfa</th>\n",
       "      <th>greedy</th>\n",
       "      <th>lookahead1</th>\n",
       "      <th>lookahead3</th>\n",
       "      <th>lookahead5</th>\n",
       "    </tr>\n",
       "  </thead>\n",
       "  <tbody>\n",
       "    <tr>\n",
       "      <th>avg_weight_matching</th>\n",
       "      <td>5.337082</td>\n",
       "      <td>NaN</td>\n",
       "      <td>5.437044</td>\n",
       "      <td>5.741496</td>\n",
       "      <td>5.551149</td>\n",
       "    </tr>\n",
       "    <tr>\n",
       "      <th>avg_weight_per_node</th>\n",
       "      <td>1.940076</td>\n",
       "      <td>NaN</td>\n",
       "      <td>2.113414</td>\n",
       "      <td>1.850825</td>\n",
       "      <td>2.132476</td>\n",
       "    </tr>\n",
       "    <tr>\n",
       "      <th>num_discarded_buyers</th>\n",
       "      <td>457.000000</td>\n",
       "      <td>745.0</td>\n",
       "      <td>469.000000</td>\n",
       "      <td>464.000000</td>\n",
       "      <td>442.000000</td>\n",
       "    </tr>\n",
       "    <tr>\n",
       "      <th>num_discarded_sellers</th>\n",
       "      <td>450.000000</td>\n",
       "      <td>761.0</td>\n",
       "      <td>462.000000</td>\n",
       "      <td>524.000000</td>\n",
       "      <td>475.000000</td>\n",
       "    </tr>\n",
       "    <tr>\n",
       "      <th>weight_per_node_stddev</th>\n",
       "      <td>2.783290</td>\n",
       "      <td>0.0</td>\n",
       "      <td>2.899265</td>\n",
       "      <td>2.871310</td>\n",
       "      <td>2.938212</td>\n",
       "    </tr>\n",
       "  </tbody>\n",
       "</table>\n",
       "</div>"
      ],
      "text/plain": [
       "                               dfa  greedy  lookahead1  lookahead3  lookahead5\n",
       "avg_weight_matching       5.337082     NaN    5.437044    5.741496    5.551149\n",
       "avg_weight_per_node       1.940076     NaN    2.113414    1.850825    2.132476\n",
       "num_discarded_buyers    457.000000   745.0  469.000000  464.000000  442.000000\n",
       "num_discarded_sellers   450.000000   761.0  462.000000  524.000000  475.000000\n",
       "weight_per_node_stddev    2.783290     0.0    2.899265    2.871310    2.938212"
      ]
     },
     "execution_count": 91,
     "metadata": {},
     "output_type": "execute_result"
    }
   ],
   "source": [
    "make_dataframe(results_time_sep_1)"
   ]
  },
  {
   "cell_type": "code",
   "execution_count": 92,
   "metadata": {},
   "outputs": [
    {
     "data": {
      "text/html": [
       "<div>\n",
       "<style>\n",
       "    .dataframe thead tr:only-child th {\n",
       "        text-align: right;\n",
       "    }\n",
       "\n",
       "    .dataframe thead th {\n",
       "        text-align: left;\n",
       "    }\n",
       "\n",
       "    .dataframe tbody tr th {\n",
       "        vertical-align: top;\n",
       "    }\n",
       "</style>\n",
       "<table border=\"1\" class=\"dataframe\">\n",
       "  <thead>\n",
       "    <tr style=\"text-align: right;\">\n",
       "      <th></th>\n",
       "      <th>dfa</th>\n",
       "      <th>greedy</th>\n",
       "      <th>lookahead1</th>\n",
       "      <th>lookahead3</th>\n",
       "      <th>lookahead5</th>\n",
       "    </tr>\n",
       "  </thead>\n",
       "  <tbody>\n",
       "    <tr>\n",
       "      <th>avg_weight_matching</th>\n",
       "      <td>8.929159</td>\n",
       "      <td>13.636364</td>\n",
       "      <td>8.948467</td>\n",
       "      <td>8.969767</td>\n",
       "      <td>9.264271</td>\n",
       "    </tr>\n",
       "    <tr>\n",
       "      <th>avg_weight_per_node</th>\n",
       "      <td>4.194091</td>\n",
       "      <td>1.204013</td>\n",
       "      <td>4.191746</td>\n",
       "      <td>4.137952</td>\n",
       "      <td>4.241172</td>\n",
       "    </tr>\n",
       "    <tr>\n",
       "      <th>num_discarded_buyers</th>\n",
       "      <td>390.000000</td>\n",
       "      <td>638.000000</td>\n",
       "      <td>403.000000</td>\n",
       "      <td>410.000000</td>\n",
       "      <td>398.000000</td>\n",
       "    </tr>\n",
       "    <tr>\n",
       "      <th>num_discarded_sellers</th>\n",
       "      <td>389.000000</td>\n",
       "      <td>725.000000</td>\n",
       "      <td>380.000000</td>\n",
       "      <td>356.000000</td>\n",
       "      <td>405.000000</td>\n",
       "    </tr>\n",
       "    <tr>\n",
       "      <th>weight_per_node_stddev</th>\n",
       "      <td>5.007646</td>\n",
       "      <td>3.956010</td>\n",
       "      <td>4.973823</td>\n",
       "      <td>4.998293</td>\n",
       "      <td>5.138095</td>\n",
       "    </tr>\n",
       "  </tbody>\n",
       "</table>\n",
       "</div>"
      ],
      "text/plain": [
       "                               dfa      greedy  lookahead1  lookahead3  \\\n",
       "avg_weight_matching       8.929159   13.636364    8.948467    8.969767   \n",
       "avg_weight_per_node       4.194091    1.204013    4.191746    4.137952   \n",
       "num_discarded_buyers    390.000000  638.000000  403.000000  410.000000   \n",
       "num_discarded_sellers   389.000000  725.000000  380.000000  356.000000   \n",
       "weight_per_node_stddev    5.007646    3.956010    4.973823    4.998293   \n",
       "\n",
       "                        lookahead5  \n",
       "avg_weight_matching       9.264271  \n",
       "avg_weight_per_node       4.241172  \n",
       "num_discarded_buyers    398.000000  \n",
       "num_discarded_sellers   405.000000  \n",
       "weight_per_node_stddev    5.138095  "
      ]
     },
     "execution_count": 92,
     "metadata": {},
     "output_type": "execute_result"
    }
   ],
   "source": [
    "make_dataframe(results_time_sep_2)"
   ]
  },
  {
   "cell_type": "code",
   "execution_count": 93,
   "metadata": {},
   "outputs": [
    {
     "name": "stderr",
     "output_type": "stream",
     "text": [
      "/Users/Derek/anaconda3/lib/python3.6/site-packages/numpy/core/fromnumeric.py:2957: RuntimeWarning: Mean of empty slice.\n",
      "  out=out, **kwargs)\n",
      "/Users/Derek/anaconda3/lib/python3.6/site-packages/numpy/core/_methods.py:80: RuntimeWarning: invalid value encountered in double_scalars\n",
      "  ret = ret.dtype.type(ret / rcount)\n"
     ]
    },
    {
     "data": {
      "text/html": [
       "<div>\n",
       "<style>\n",
       "    .dataframe thead tr:only-child th {\n",
       "        text-align: right;\n",
       "    }\n",
       "\n",
       "    .dataframe thead th {\n",
       "        text-align: left;\n",
       "    }\n",
       "\n",
       "    .dataframe tbody tr th {\n",
       "        vertical-align: top;\n",
       "    }\n",
       "</style>\n",
       "<table border=\"1\" class=\"dataframe\">\n",
       "  <thead>\n",
       "    <tr style=\"text-align: right;\">\n",
       "      <th></th>\n",
       "      <th>dfa</th>\n",
       "      <th>greedy</th>\n",
       "      <th>lookahead1</th>\n",
       "      <th>lookahead3</th>\n",
       "      <th>lookahead5</th>\n",
       "    </tr>\n",
       "  </thead>\n",
       "  <tbody>\n",
       "    <tr>\n",
       "      <th>avg_weight_matching</th>\n",
       "      <td>51.843355</td>\n",
       "      <td>NaN</td>\n",
       "      <td>54.965971</td>\n",
       "      <td>56.258797</td>\n",
       "      <td>54.166573</td>\n",
       "    </tr>\n",
       "    <tr>\n",
       "      <th>avg_weight_per_node</th>\n",
       "      <td>18.139881</td>\n",
       "      <td>NaN</td>\n",
       "      <td>19.121859</td>\n",
       "      <td>21.219393</td>\n",
       "      <td>20.019625</td>\n",
       "    </tr>\n",
       "    <tr>\n",
       "      <th>num_discarded_buyers</th>\n",
       "      <td>474.000000</td>\n",
       "      <td>692.0</td>\n",
       "      <td>476.000000</td>\n",
       "      <td>466.000000</td>\n",
       "      <td>492.000000</td>\n",
       "    </tr>\n",
       "    <tr>\n",
       "      <th>num_discarded_sellers</th>\n",
       "      <td>481.000000</td>\n",
       "      <td>805.0</td>\n",
       "      <td>480.000000</td>\n",
       "      <td>429.000000</td>\n",
       "      <td>470.000000</td>\n",
       "    </tr>\n",
       "    <tr>\n",
       "      <th>weight_per_node_stddev</th>\n",
       "      <td>27.011745</td>\n",
       "      <td>0.0</td>\n",
       "      <td>28.115934</td>\n",
       "      <td>29.319995</td>\n",
       "      <td>28.208929</td>\n",
       "    </tr>\n",
       "  </tbody>\n",
       "</table>\n",
       "</div>"
      ],
      "text/plain": [
       "                               dfa  greedy  lookahead1  lookahead3  lookahead5\n",
       "avg_weight_matching      51.843355     NaN   54.965971   56.258797   54.166573\n",
       "avg_weight_per_node      18.139881     NaN   19.121859   21.219393   20.019625\n",
       "num_discarded_buyers    474.000000   692.0  476.000000  466.000000  492.000000\n",
       "num_discarded_sellers   481.000000   805.0  480.000000  429.000000  470.000000\n",
       "weight_per_node_stddev   27.011745     0.0   28.115934   29.319995   28.208929"
      ]
     },
     "execution_count": 93,
     "metadata": {},
     "output_type": "execute_result"
    }
   ],
   "source": [
    "make_dataframe(results_time_sep_3)"
   ]
  },
  {
   "cell_type": "markdown",
   "metadata": {},
   "source": [
    "Seems like have the weight function depend heavily on time makes the greedy algorithm break?"
   ]
  },
  {
   "cell_type": "code",
   "execution_count": 94,
   "metadata": {},
   "outputs": [
    {
     "name": "stdout",
     "output_type": "stream",
     "text": [
      "\n",
      "Seed: 0\n",
      "The greedy algorithm had an average weight of 0.6222476617659023\n",
      "The dfa algorithm had an average weight of 0.5249575687551369\n",
      "The lookahead1 algorithm had an average weight of 0.5291354847738865\n",
      "The lookahead3 algorithm had an average weight of 0.539378944837527\n",
      "The lookahead5 algorithm had an average weight of 0.5258664578469614\n"
     ]
    }
   ],
   "source": [
    "results_big_one = {}\n",
    "for seed in [0]:\n",
    "    print(\"\\nSeed:\", seed)\n",
    "    results_big_one[seed] = run_an_experiment(\n",
    "        seed, 0.9, (10,2), algs_to_test, \n",
    "        weight_function_distance,\n",
    "        fewest_nodes_per_add=1, max_nodes_per_add=10,\n",
    "        p_buyer=0.5, num_runs=1000, size=(20,20))"
   ]
  },
  {
   "cell_type": "code",
   "execution_count": 95,
   "metadata": {},
   "outputs": [
    {
     "data": {
      "text/html": [
       "<div>\n",
       "<style>\n",
       "    .dataframe thead tr:only-child th {\n",
       "        text-align: right;\n",
       "    }\n",
       "\n",
       "    .dataframe thead th {\n",
       "        text-align: left;\n",
       "    }\n",
       "\n",
       "    .dataframe tbody tr th {\n",
       "        vertical-align: top;\n",
       "    }\n",
       "</style>\n",
       "<table border=\"1\" class=\"dataframe\">\n",
       "  <thead>\n",
       "    <tr style=\"text-align: right;\">\n",
       "      <th></th>\n",
       "      <th>dfa</th>\n",
       "      <th>greedy</th>\n",
       "      <th>lookahead1</th>\n",
       "      <th>lookahead3</th>\n",
       "      <th>lookahead5</th>\n",
       "    </tr>\n",
       "  </thead>\n",
       "  <tbody>\n",
       "    <tr>\n",
       "      <th>avg_weight_matching</th>\n",
       "      <td>0.524958</td>\n",
       "      <td>0.622248</td>\n",
       "      <td>0.529135</td>\n",
       "      <td>0.539379</td>\n",
       "      <td>0.525866</td>\n",
       "    </tr>\n",
       "    <tr>\n",
       "      <th>avg_weight_per_node</th>\n",
       "      <td>0.344388</td>\n",
       "      <td>0.328744</td>\n",
       "      <td>0.361886</td>\n",
       "      <td>0.357612</td>\n",
       "      <td>0.360045</td>\n",
       "    </tr>\n",
       "    <tr>\n",
       "      <th>num_discarded_buyers</th>\n",
       "      <td>813.000000</td>\n",
       "      <td>1228.000000</td>\n",
       "      <td>851.000000</td>\n",
       "      <td>777.000000</td>\n",
       "      <td>775.000000</td>\n",
       "    </tr>\n",
       "    <tr>\n",
       "      <th>num_discarded_sellers</th>\n",
       "      <td>847.000000</td>\n",
       "      <td>1179.000000</td>\n",
       "      <td>749.000000</td>\n",
       "      <td>942.000000</td>\n",
       "      <td>778.000000</td>\n",
       "    </tr>\n",
       "    <tr>\n",
       "      <th>weight_per_node_stddev</th>\n",
       "      <td>0.348528</td>\n",
       "      <td>0.369882</td>\n",
       "      <td>0.357087</td>\n",
       "      <td>0.356990</td>\n",
       "      <td>0.353956</td>\n",
       "    </tr>\n",
       "  </tbody>\n",
       "</table>\n",
       "</div>"
      ],
      "text/plain": [
       "                               dfa       greedy  lookahead1  lookahead3  \\\n",
       "avg_weight_matching       0.524958     0.622248    0.529135    0.539379   \n",
       "avg_weight_per_node       0.344388     0.328744    0.361886    0.357612   \n",
       "num_discarded_buyers    813.000000  1228.000000  851.000000  777.000000   \n",
       "num_discarded_sellers   847.000000  1179.000000  749.000000  942.000000   \n",
       "weight_per_node_stddev    0.348528     0.369882    0.357087    0.356990   \n",
       "\n",
       "                        lookahead5  \n",
       "avg_weight_matching       0.525866  \n",
       "avg_weight_per_node       0.360045  \n",
       "num_discarded_buyers    775.000000  \n",
       "num_discarded_sellers   778.000000  \n",
       "weight_per_node_stddev    0.353956  "
      ]
     },
     "execution_count": 95,
     "metadata": {},
     "output_type": "execute_result"
    }
   ],
   "source": [
    "make_dataframe(results_big_one)"
   ]
  },
  {
   "cell_type": "code",
   "execution_count": 89,
   "metadata": {
    "collapsed": true
   },
   "outputs": [],
   "source": [
    "import numpy as np\n",
    "import matplotlib.pyplot as plt\n"
   ]
  },
  {
   "cell_type": "code",
   "execution_count": 65,
   "metadata": {
    "collapsed": true
   },
   "outputs": [],
   "source": [
    "def get_weights_for_histogram(results, seed=0):\n",
    "    all_weights = {}\n",
    "    max_weight = -1000\n",
    "    n_bins=100\n",
    "    lowest = 0\n",
    "    for alg_name, res in results[seed].items():\n",
    "        weights, discarded_buyers, discarded_sellers, matched_wait_times = res\n",
    "        just_weights = [w[0] for w in weights]\n",
    "        max_weight = max(max_weight, max(just_weights))\n",
    "        all_weights[alg_name] = just_weights\n",
    "    hist_values = {}\n",
    "    for alg in all_weights.keys():\n",
    "        hist_values[alg], bins = np.histogram(np.array(all_weights[alg]), n_bins, (lowest, max_weight))\n",
    "    return pd.DataFrame(hist_values), bins\n",
    "\n",
    "\n"
   ]
  },
  {
   "cell_type": "code",
   "execution_count": 72,
   "metadata": {},
   "outputs": [
    {
     "data": {
      "image/png": "[encoded data removed]",
      "text/plain": [
       "<matplotlib.figure.Figure at 0x191cf02e80>"
      ]
     },
     "metadata": {},
     "output_type": "display_data"
    }
   ],
   "source": [
    "df, bins = get_weights_for_histogram(results1)\n",
    "plt.hist(df)\n",
    "plt.show()"
   ]
  },
  {
   "cell_type": "code",
   "execution_count": null,
   "metadata": {
    "collapsed": true
   },
   "outputs": [],
   "source": []
  }
 ],
 "metadata": {
  "kernelspec": {
   "display_name": "Python 3",
   "language": "python",
   "name": "python3"
  },
  "language_info": {
   "codemirror_mode": {
    "name": "ipython",
    "version": 3
   },
   "file_extension": ".py",
   "mimetype": "text/x-python",
   "name": "python",
   "nbconvert_exporter": "python",
   "pygments_lexer": "ipython3",
   "version": "3.6.4"
  }
 },
 "nbformat": 4,
 "nbformat_minor": 2
}
