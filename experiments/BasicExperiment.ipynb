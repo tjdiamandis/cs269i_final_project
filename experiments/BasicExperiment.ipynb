{
 "cells": [
  {
   "cell_type": "code",
   "execution_count": 1,
   "metadata": {
    "collapsed": true
   },
   "outputs": [],
   "source": [
    "import sys\n",
    "sys.path.append(\"..\")\n",
    "sys.path.append(\"../src/\")\n",
    "sys.path.append(\"../src/algs/\")\n",
    "\n",
    "from src import interface\n",
    "from src import simulator\n",
    "from src import algs\n",
    "\n",
    "import numpy as np\n",
    "import matplotlib.pyplot as plt"
   ]
  },
  {
   "cell_type": "markdown",
   "metadata": {},
   "source": [
    "# Experiment 1: Greedy Vs Deferred Vs Lookahead\n",
    "-- batch saved for later"
   ]
  },
  {
   "cell_type": "code",
   "execution_count": 2,
   "metadata": {
    "collapsed": true
   },
   "outputs": [],
   "source": [
    "def weight_function_distance(buyer_pos, buyer_d, seller_pos, seller_d):\n",
    "    bx, by = buyer_pos\n",
    "    sx, sy = seller_pos\n",
    "    return 1/(1 + (bx-sx)**2 + (by-sy)**2)"
   ]
  },
  {
   "cell_type": "code",
   "execution_count": 9,
   "metadata": {
    "collapsed": true
   },
   "outputs": [],
   "source": [
    "departure_distr = (6,1) # mean, var\n",
    "seed = 42\n",
    "p_node = 1 # add a node every step\n",
    "num_runs = 1000"
   ]
  },
  {
   "cell_type": "code",
   "execution_count": 10,
   "metadata": {
    "collapsed": true
   },
   "outputs": [],
   "source": [
    "algs_to_test = [\n",
    "    (\"greedy\", algs.Greedy()),\n",
    "    (\"dfa\", algs.DynamicDeferredAcceptance()),\n",
    "    (\"lookahead1\", algs.DeferredWithLookAhead(1)),\n",
    "    (\"lookahead3\", algs.DeferredWithLookAhead(3)),\n",
    "    (\"lookahead5\", algs.DeferredWithLookAhead(5))\n",
    "]"
   ]
  },
  {
   "cell_type": "markdown",
   "metadata": {},
   "source": [
    "## actually run one of the experiments"
   ]
  },
  {
   "cell_type": "code",
   "execution_count": 11,
   "metadata": {
    "collapsed": true
   },
   "outputs": [],
   "source": [
    "results = {}\n",
    "for (alg_name, alg) in algs_to_test:\n",
    "    inter = interface.Interface(\n",
    "        alg,\n",
    "        simulator.Simulator(weight_function_distance),\n",
    "        p_node=p_node,\n",
    "        seed=seed,\n",
    "        dep_distr=departure_distr,\n",
    "        verbose=False)\n",
    "    results[alg_name] = inter.run(num_runs)"
   ]
  },
  {
   "cell_type": "code",
   "execution_count": 12,
   "metadata": {},
   "outputs": [
    {
     "name": "stdout",
     "output_type": "stream",
     "text": [
      "The greedy algorithm had an average weight of 0.20547522907237778\n",
      "The dfa algorithm had an average weight of 0.1729508515809003\n",
      "The lookahead1 algorithm had an average weight of 0.1729508515809003\n",
      "The lookahead3 algorithm had an average weight of 0.1729508515809003\n",
      "The lookahead5 algorithm had an average weight of 0.1729508515809003\n"
     ]
    }
   ],
   "source": [
    "for alg_name, res in results.items():\n",
    "    average_weight =  np.mean([w[0] for w in res[0]])\n",
    "    print(\"The {} algorithm had an average weight of {}\".format(alg_name, average_weight))\n"
   ]
  },
  {
   "cell_type": "markdown",
   "metadata": {},
   "source": [
    "# Let's run a few experiments..."
   ]
  },
  {
   "cell_type": "code",
   "execution_count": 2,
   "metadata": {},
   "outputs": [],
   "source": [
    "def run_an_experiment(seed, p_node, departure_distr, algs_to_test, weight_fn,\n",
    "                      fewest_nodes_per_add=1, max_nodes_per_add=10,\n",
    "                      p_buyer=0.5, num_runs=1000, size=(10,10)):\n",
    "    results = {}\n",
    "    for (alg_name, alg) in algs_to_test:\n",
    "        inter = interface.Interface(\n",
    "            alg,\n",
    "            simulator.Simulator(weight_fn),\n",
    "            p_node=p_node,\n",
    "            min_to_add=fewest_nodes_per_add,\n",
    "            max_to_add=max_nodes_per_add,\n",
    "            p_buyer=p_buyer,\n",
    "            seed=seed,\n",
    "            dep_distr=departure_distr)\n",
    "        results[alg_name] = inter.run(num_runs)\n",
    "    for alg_name, res in results.items():\n",
    "        average_weight =  np.mean([w[0] for w in res[0]])\n",
    "        print(\"The {} algorithm had an average weight of {}\".format(alg_name, average_weight))\n",
    "    return results\n"
   ]
  },
  {
   "cell_type": "code",
   "execution_count": 3,
   "metadata": {
    "collapsed": true
   },
   "outputs": [],
   "source": [
    "def weight_function_distance(buyer_pos, buyer_d, seller_pos, seller_d):\n",
    "    bx, by = buyer_pos\n",
    "    sx, sy = seller_pos\n",
    "    return 1/(1 + (bx-sx)**2 + (by-sy)**2)"
   ]
  },
  {
   "cell_type": "code",
   "execution_count": 7,
   "metadata": {},
   "outputs": [
    {
     "name": "stdout",
     "output_type": "stream",
     "text": [
      "\n",
      "Seed: 0\n",
      "The greedy algorithm had an average weight of 0.43762006757505756\n",
      "The dfa algorithm had an average weight of 0.3367995277769981\n",
      "The lookahead1 algorithm had an average weight of 0.33395370981184247\n",
      "The lookahead3 algorithm had an average weight of 0.35173405685815085\n",
      "The lookahead5 algorithm had an average weight of 0.335085892787785\n"
     ]
    }
   ],
   "source": [
    "algs_to_test = [\n",
    "    (\"greedy\", algs.Greedy()),\n",
    "    (\"dfa\", algs.DynamicDeferredAcceptance()),\n",
    "    (\"lookahead1\", algs.DeferredWithLookAhead(1)),\n",
    "    (\"lookahead3\", algs.DeferredWithLookAhead(3)),\n",
    "    (\"lookahead5\", algs.DeferredWithLookAhead(5))\n",
    "]\n",
    "results1 = {}\n",
    "for seed in range(0,1):\n",
    "    print(\"\\nSeed:\", seed)\n",
    "    results1[seed] = run_an_experiment(seed, 0.9, (6,1), algs_to_test, weight_function_distance,\n",
    "                      fewest_nodes_per_add=1, max_nodes_per_add=6,\n",
    "                      p_buyer=0.5, num_runs=500, size=(10,10))"
   ]
  },
  {
   "cell_type": "code",
   "execution_count": 8,
   "metadata": {
    "collapsed": true
   },
   "outputs": [],
   "source": [
    "def weight_function_d_and_time(buyer_pos, buyer_d, seller_pos, seller_d):\n",
    "    bx, by = buyer_pos\n",
    "    sx, sy = seller_pos\n",
    "    return (buyer_d + seller_d)/(1 + (bx-sx)**2 + (by-sy)**2)"
   ]
  },
  {
   "cell_type": "markdown",
   "metadata": {},
   "source": [
    "## This is not the right function I was thinking of. Need a node->time_waiting variable somehow."
   ]
  },
  {
   "cell_type": "code",
   "execution_count": 19,
   "metadata": {},
   "outputs": [
    {
     "name": "stdout",
     "output_type": "stream",
     "text": [
      "\n",
      "Seed: 0\n",
      "The greedy algorithm had an average weight of 4.295296360432239\n",
      "The dfa algorithm had an average weight of 3.3486742619551957\n",
      "The lookahead1 algorithm had an average weight of 3.467073459462698\n",
      "The lookahead3 algorithm had an average weight of 3.3516305249110965\n",
      "The lookahead5 algorithm had an average weight of 3.4978244575839263\n"
     ]
    }
   ],
   "source": [
    "results2 = {}\n",
    "for seed in range(0,1):\n",
    "    print(\"\\nSeed:\", seed)\n",
    "    results2[seed] = run_an_experiment(seed, 0.9, (6,1), algs_to_test, \n",
    "                                      weight_function_d_and_time,\n",
    "                      fewest_nodes_per_add=1, max_nodes_per_add=6,\n",
    "                      p_buyer=0.5, num_runs=500, size=(10,10))"
   ]
  },
  {
   "cell_type": "code",
   "execution_count": 20,
   "metadata": {},
   "outputs": [
    {
     "name": "stdout",
     "output_type": "stream",
     "text": [
      "\n",
      "Seed: 0\n",
      "The greedy algorithm had an average weight of 0.43018121597542075\n",
      "The dfa algorithm had an average weight of 0.3390407940532272\n",
      "The lookahead1 algorithm had an average weight of 0.332271330372514\n",
      "The lookahead3 algorithm had an average weight of 0.32129774247184856\n",
      "The lookahead5 algorithm had an average weight of 0.35354476752547137\n"
     ]
    }
   ],
   "source": [
    "results3 = {}\n",
    "for seed in range(0,1):\n",
    "    print(\"\\nSeed:\", seed)\n",
    "    results3[seed] = run_an_experiment(seed, 0.9, (6,1), algs_to_test, \n",
    "                                       weight_function_distance,\n",
    "                      fewest_nodes_per_add=1, max_nodes_per_add=6,\n",
    "                      p_buyer=0.6, num_runs=500, size=(10,10))"
   ]
  },
  {
   "cell_type": "code",
   "execution_count": 21,
   "metadata": {},
   "outputs": [
    {
     "name": "stdout",
     "output_type": "stream",
     "text": [
      "\n",
      "Seed: 0\n",
      "The greedy algorithm had an average weight of 0.42499324879785844\n",
      "The dfa algorithm had an average weight of 0.37340977609225545\n",
      "The lookahead1 algorithm had an average weight of 0.37388625892599536\n",
      "The lookahead3 algorithm had an average weight of 0.3962581223558235\n",
      "The lookahead5 algorithm had an average weight of 0.377779958596513\n"
     ]
    }
   ],
   "source": [
    "results4 = {}\n",
    "for seed in range(0,1):\n",
    "    print(\"\\nSeed:\", seed)\n",
    "    results3[seed] = run_an_experiment(seed, 0.9, (6,1), algs_to_test, \n",
    "                                       weight_function_distance,\n",
    "                      fewest_nodes_per_add=1, max_nodes_per_add=6,\n",
    "                      p_buyer=0.4, num_runs=500, size=(10,10))"
   ]
  },
  {
   "cell_type": "code",
   "execution_count": 17,
   "metadata": {
    "collapsed": true
   },
   "outputs": [],
   "source": [
    "def print_some_things(result_dict):\n",
    "    for seed in result_dict.keys():\n",
    "        print(\"Seed:\", seed)\n",
    "        for alg_name, res in result_dict[seed].items():\n",
    "            print(\"Alg:\", alg_name)\n",
    "            weights, discarded_buyers, discarded_sellers = res\n",
    "            avg_weight_matching = np.mean([w[0] for w in weights])\n",
    "            n_matched_nodes = len(weights)*2 # because a match is 2 nodes\n",
    "            num_discarded_buyers = np.sum([d[0] for d in discarded_buyers])\n",
    "            num_discarded_sellers = np.sum([d[0] for d in discarded_sellers])\n",
    "            n_nodes = n_matched_nodes + num_discarded_buyers + num_discarded_sellers\n",
    "            avg_weight_per_node = (avg_weight_matching * n_matched_nodes) / n_nodes\n",
    "            print(\"Average weight per matching:\", avg_weight_matching)\n",
    "            print(\"Average weight per node:\", avg_weight_per_node)\n",
    "            print(\"Number of nodes: {}, matches: {}\".format(n_nodes, len(weights)))\n",
    "            print(\"Number of dropped buyers: {}, sellers: {}\".format(\n",
    "                num_discarded_buyers,\n",
    "                num_discarded_sellers\n",
    "            ))"
   ]
  },
  {
   "cell_type": "code",
   "execution_count": 18,
   "metadata": {},
   "outputs": [
    {
     "name": "stdout",
     "output_type": "stream",
     "text": [
      "Seed: 0\n",
      "Alg: greedy\n",
      "Average weight per matching: 0.43762006757505756\n",
      "Average weight per node: 0.22143925982769933\n",
      "Number of nodes: 1498, matches: 379\n",
      "Number of dropped buyers: 368, sellers: 372\n",
      "Alg: dfa\n",
      "Average weight per matching: 0.3367995277769981\n",
      "Average weight per node: 0.22870821927556487\n",
      "Number of nodes: 1452, matches: 493\n",
      "Number of dropped buyers: 249, sellers: 217\n",
      "Alg: lookahead1\n",
      "Average weight per matching: 0.33395370981184247\n",
      "Average weight per node: 0.22491691111644582\n",
      "Number of nodes: 1464, matches: 493\n",
      "Number of dropped buyers: 274, sellers: 204\n",
      "Alg: lookahead3\n",
      "Average weight per matching: 0.35173405685815085\n",
      "Average weight per node: 0.23305078613914287\n",
      "Number of nodes: 1467, matches: 486\n",
      "Number of dropped buyers: 241, sellers: 254\n",
      "Alg: lookahead5\n",
      "Average weight per matching: 0.335085892787785\n",
      "Average weight per node: 0.22339059519185667\n",
      "Number of nodes: 1470, matches: 490\n",
      "Number of dropped buyers: 242, sellers: 248\n"
     ]
    }
   ],
   "source": [
    "print_some_things(results1)"
   ]
  },
  {
   "cell_type": "code",
   "execution_count": 22,
   "metadata": {},
   "outputs": [
    {
     "name": "stdout",
     "output_type": "stream",
     "text": [
      "Seed: 0\n",
      "Alg: greedy\n",
      "Average weight per matching: 4.295296360432239\n",
      "Average weight per node: 2.031799938129773\n",
      "Number of nodes: 1446, matches: 342\n",
      "Number of dropped buyers: 399, sellers: 363\n",
      "Alg: dfa\n",
      "Average weight per matching: 3.3486742619551957\n",
      "Average weight per node: 2.0680326185317894\n",
      "Number of nodes: 1480, matches: 457\n",
      "Number of dropped buyers: 268, sellers: 298\n",
      "Alg: lookahead1\n",
      "Average weight per matching: 3.467073459462698\n",
      "Average weight per node: 2.231147406490014\n",
      "Number of nodes: 1498, matches: 482\n",
      "Number of dropped buyers: 267, sellers: 267\n",
      "Alg: lookahead3\n",
      "Average weight per matching: 3.3516305249110965\n",
      "Average weight per node: 2.058795500771017\n",
      "Number of nodes: 1514, matches: 465\n",
      "Number of dropped buyers: 285, sellers: 299\n",
      "Alg: lookahead5\n",
      "Average weight per matching: 3.4978244575839263\n",
      "Average weight per node: 2.2367040749176126\n",
      "Number of nodes: 1470, matches: 470\n",
      "Number of dropped buyers: 259, sellers: 271\n"
     ]
    }
   ],
   "source": [
    "print_some_things(results2)"
   ]
  },
  {
   "cell_type": "code",
   "execution_count": 23,
   "metadata": {},
   "outputs": [
    {
     "name": "stdout",
     "output_type": "stream",
     "text": [
      "Seed: 0\n",
      "Alg: greedy\n",
      "Average weight per matching: 0.42499324879785844\n",
      "Average weight per node: 0.19668158469400213\n",
      "Number of nodes: 1478, matches: 342\n",
      "Number of dropped buyers: 269, sellers: 525\n",
      "Alg: dfa\n",
      "Average weight per matching: 0.37340977609225545\n",
      "Average weight per node: 0.21337701490986025\n",
      "Number of nodes: 1512, matches: 432\n",
      "Number of dropped buyers: 188, sellers: 460\n",
      "Alg: lookahead1\n",
      "Average weight per matching: 0.37388625892599536\n",
      "Average weight per node: 0.21096233508400825\n",
      "Number of nodes: 1471, matches: 415\n",
      "Number of dropped buyers: 177, sellers: 464\n",
      "Alg: lookahead3\n",
      "Average weight per matching: 0.3962581223558235\n",
      "Average weight per node: 0.2270451944309043\n",
      "Number of nodes: 1480, matches: 424\n",
      "Number of dropped buyers: 167, sellers: 465\n",
      "Alg: lookahead5\n",
      "Average weight per matching: 0.377779958596513\n",
      "Average weight per node: 0.219771174823857\n",
      "Number of nodes: 1468, matches: 427\n",
      "Number of dropped buyers: 179, sellers: 435\n"
     ]
    }
   ],
   "source": [
    "print_some_things(results3)"
   ]
  },
  {
   "cell_type": "code",
   "execution_count": 24,
   "metadata": {
    "collapsed": true
   },
   "outputs": [],
   "source": [
    "print_some_things(results4)"
   ]
  },
  {
   "cell_type": "code",
   "execution_count": null,
   "metadata": {
    "collapsed": true
   },
   "outputs": [],
   "source": []
  }
 ],
 "metadata": {
  "kernelspec": {
   "display_name": "CORRECT_PY3",
   "language": "python",
   "name": "python3_"
  },
  "language_info": {
   "codemirror_mode": {
    "name": "ipython",
    "version": 3
   },
   "file_extension": ".py",
   "mimetype": "text/x-python",
   "name": "python",
   "nbconvert_exporter": "python",
   "pygments_lexer": "ipython3",
   "version": "3.6.3"
  }
 },
 "nbformat": 4,
 "nbformat_minor": 2
}
