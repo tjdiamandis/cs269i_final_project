{
 "cells": [
  {
   "cell_type": "code",
   "execution_count": 1,
   "metadata": {
    "collapsed": true
   },
   "outputs": [],
   "source": [
    "import sys\n",
    "sys.path.append(\"..\")\n",
    "sys.path.append(\"../src/\")\n",
    "sys.path.append(\"../src/algs/\")\n",
    "\n",
    "from src import interface\n",
    "from src import simulator\n",
    "from src import algs\n",
    "\n",
    "import numpy as np\n",
    "import matplotlib.pyplot as plt"
   ]
  },
  {
   "cell_type": "markdown",
   "metadata": {},
   "source": [
    "# Experiment 1: Greedy Vs Deferred Vs Lookahead\n",
    "-- batch saved for later"
   ]
  },
  {
   "cell_type": "code",
   "execution_count": 2,
   "metadata": {
    "collapsed": true
   },
   "outputs": [],
   "source": [
    "def weight_function_distance(buyer_pos, buyer_d, seller_pos, seller_d):\n",
    "    bx, by = buyer_pos\n",
    "    sx, sy = seller_pos\n",
    "    return 1/(1 + (bx-sx)**2 + (by-sy)**2)"
   ]
  },
  {
   "cell_type": "code",
   "execution_count": 3,
   "metadata": {
    "collapsed": true
   },
   "outputs": [],
   "source": [
    "departure_distr = (6,1) # mean, var\n",
    "seed = 42\n",
    "p_node = 1 # add a node every step\n",
    "num_runs = 1000"
   ]
  },
  {
   "cell_type": "code",
   "execution_count": 4,
   "metadata": {
    "collapsed": true
   },
   "outputs": [],
   "source": [
    "algs_to_test = [\n",
    "    (\"greedy\", algs.Greedy()),\n",
    "    (\"dfa\", algs.DynamicDeferredAcceptance()),\n",
    "    (\"lookahead1\", algs.DeferredWithLookAhead(1)),\n",
    "    (\"lookahead3\", algs.DeferredWithLookAhead(3)),\n",
    "    (\"lookahead5\", algs.DeferredWithLookAhead(5))\n",
    "]"
   ]
  },
  {
   "cell_type": "markdown",
   "metadata": {},
   "source": [
    "## actually run one of the experiments"
   ]
  },
  {
   "cell_type": "code",
   "execution_count": 5,
   "metadata": {
    "collapsed": true
   },
   "outputs": [],
   "source": [
    "results = {}\n",
    "for (alg_name, alg) in algs_to_test:\n",
    "    inter = interface.Interface(\n",
    "        alg,\n",
    "        simulator.Simulator(weight_function_distance),\n",
    "        p_node=p_node,\n",
    "        seed=seed,\n",
    "        dep_distr=departure_distr,\n",
    "        verbose=False)\n",
    "    results[alg_name] = inter.run(num_runs)"
   ]
  },
  {
   "cell_type": "code",
   "execution_count": 6,
   "metadata": {},
   "outputs": [
    {
     "name": "stdout",
     "output_type": "stream",
     "text": [
      "The greedy algorithm had an average weight of 0.24491590695078122\n",
      "The dfa algorithm had an average weight of 0.20909926414303612\n",
      "The lookahead1 algorithm had an average weight of 0.20909926414303612\n",
      "The lookahead3 algorithm had an average weight of 0.20909926414303612\n",
      "The lookahead5 algorithm had an average weight of 0.20909926414303612\n"
     ]
    }
   ],
   "source": [
    "for alg_name, res in results.items():\n",
    "    average_weight =  np.mean([w[0] for w in res[0]])\n",
    "    print(\"The {} algorithm had an average weight of {}\".format(alg_name, average_weight))\n"
   ]
  },
  {
   "cell_type": "markdown",
   "metadata": {},
   "source": [
    "# Let's run a few experiments..."
   ]
  },
  {
   "cell_type": "code",
   "execution_count": 7,
   "metadata": {},
   "outputs": [],
   "source": [
    "def run_an_experiment(seed, p_node, departure_distr, algs_to_test, weight_fn,\n",
    "                      fewest_nodes_per_add=1, max_nodes_per_add=10,\n",
    "                      p_buyer=0.5, num_runs=1000, size=(10,10), recalc=False):\n",
    "    results = {}\n",
    "    for (alg_name, alg) in algs_to_test:\n",
    "        inter = interface.Interface(\n",
    "            alg,\n",
    "            simulator.Simulator(weight_fn),\n",
    "            p_node=p_node,\n",
    "            min_to_add=fewest_nodes_per_add,\n",
    "            max_to_add=max_nodes_per_add,\n",
    "            p_buyer=p_buyer,\n",
    "            seed=seed,\n",
    "            dep_distr=departure_distr,\n",
    "            recalc_weights=recalc)\n",
    "        results[alg_name] = inter.run(num_runs)\n",
    "    for alg_name, res in results.items():\n",
    "        average_weight =  np.mean([w[0] for w in res[0]])\n",
    "        print(\"The {} algorithm had an average weight of {}\".format(alg_name, average_weight))\n",
    "    return results\n"
   ]
  },
  {
   "cell_type": "code",
   "execution_count": 8,
   "metadata": {
    "collapsed": true
   },
   "outputs": [],
   "source": [
    "def weight_function_distance(buyer_pos, buyer_d, seller_pos, seller_d):\n",
    "    bx, by = buyer_pos\n",
    "    sx, sy = seller_pos\n",
    "    return 1/(1 + (bx-sx)**2 + (by-sy)**2)"
   ]
  },
  {
   "cell_type": "code",
   "execution_count": 9,
   "metadata": {},
   "outputs": [
    {
     "name": "stdout",
     "output_type": "stream",
     "text": [
      "\n",
      "Seed: 0\n",
      "The greedy algorithm had an average weight of 0.41633861974262093\n",
      "The dfa algorithm had an average weight of 0.36551927356512703\n",
      "The lookahead1 algorithm had an average weight of 0.35046899716758073\n",
      "The lookahead3 algorithm had an average weight of 0.37637846161267574\n",
      "The lookahead5 algorithm had an average weight of 0.3353204734573441\n"
     ]
    }
   ],
   "source": [
    "algs_to_test = [\n",
    "    (\"greedy\", algs.Greedy()),\n",
    "    (\"dfa\", algs.DynamicDeferredAcceptance()),\n",
    "    (\"lookahead1\", algs.DeferredWithLookAhead(1)),\n",
    "    (\"lookahead3\", algs.DeferredWithLookAhead(3)),\n",
    "    (\"lookahead5\", algs.DeferredWithLookAhead(5))\n",
    "]\n",
    "results1 = {}\n",
    "for seed in range(0,1):\n",
    "    print(\"\\nSeed:\", seed)\n",
    "    results1[seed] = run_an_experiment(seed, 0.9, (6,1), algs_to_test, weight_function_distance,\n",
    "                      fewest_nodes_per_add=1, max_nodes_per_add=6,\n",
    "                      p_buyer=0.5, num_runs=500, size=(10,10))"
   ]
  },
  {
   "cell_type": "code",
   "execution_count": 10,
   "metadata": {
    "collapsed": true
   },
   "outputs": [],
   "source": [
    "def weight_function_d_and_time(buyer_pos, buyer_d, seller_pos, seller_d):\n",
    "    bx, by = buyer_pos\n",
    "    sx, sy = seller_pos\n",
    "    return (buyer_d + seller_d)/(1 + (bx-sx)**2 + (by-sy)**2)"
   ]
  },
  {
   "cell_type": "markdown",
   "metadata": {},
   "source": [
    "## This is not the right function I was thinking of. Need a node->time_waiting variable somehow.\n",
    "Requires redefining the way sim works, which I just don't have the energy for at the moment. I added the functionality to interface, where it returns the original weight times of matches. So we can do something with that after the fact (it wont be considered by algorithms). We may also want to check something like average market density - how many buyers/sellers present on average?"
   ]
  },
  {
   "cell_type": "code",
   "execution_count": 11,
   "metadata": {},
   "outputs": [
    {
     "name": "stdout",
     "output_type": "stream",
     "text": [
      "\n",
      "Seed: 0\n",
      "The greedy algorithm had an average weight of 2.5222050873719004\n",
      "The dfa algorithm had an average weight of 1.723709234737759\n",
      "The lookahead1 algorithm had an average weight of 1.918841801898989\n",
      "The lookahead3 algorithm had an average weight of 1.6222252928645655\n",
      "The lookahead5 algorithm had an average weight of 1.7498474019067884\n"
     ]
    }
   ],
   "source": [
    "results2 = {}\n",
    "for seed in range(0,1):\n",
    "    print(\"\\nSeed:\", seed)\n",
    "    results2[seed] = run_an_experiment(seed, 0.9, (6,1), algs_to_test, \n",
    "                                      weight_function_d_and_time,\n",
    "                      fewest_nodes_per_add=1, max_nodes_per_add=6,\n",
    "                      p_buyer=0.5, num_runs=500, size=(10,10), recalc=True)"
   ]
  },
  {
   "cell_type": "code",
   "execution_count": 12,
   "metadata": {},
   "outputs": [
    {
     "name": "stdout",
     "output_type": "stream",
     "text": [
      "\n",
      "Seed: 0\n",
      "The greedy algorithm had an average weight of 0.4211391257310827\n",
      "The dfa algorithm had an average weight of 0.35315997894449114\n",
      "The lookahead1 algorithm had an average weight of 0.32184209295382177\n",
      "The lookahead3 algorithm had an average weight of 0.34522186846899405\n",
      "The lookahead5 algorithm had an average weight of 0.325247291659145\n"
     ]
    }
   ],
   "source": [
    "results3 = {}\n",
    "for seed in range(0,1):\n",
    "    print(\"\\nSeed:\", seed)\n",
    "    results3[seed] = run_an_experiment(seed, 0.9, (6,1), algs_to_test, \n",
    "                                       weight_function_distance,\n",
    "                      fewest_nodes_per_add=1, max_nodes_per_add=6,\n",
    "                      p_buyer=0.6, num_runs=500, size=(10,10))"
   ]
  },
  {
   "cell_type": "code",
   "execution_count": 13,
   "metadata": {},
   "outputs": [
    {
     "name": "stdout",
     "output_type": "stream",
     "text": [
      "\n",
      "Seed: 0\n",
      "The greedy algorithm had an average weight of 0.42598108091369546\n",
      "The dfa algorithm had an average weight of 0.3682993098886394\n",
      "The lookahead1 algorithm had an average weight of 0.37650595928142994\n",
      "The lookahead3 algorithm had an average weight of 0.36663330007653233\n",
      "The lookahead5 algorithm had an average weight of 0.3650310323831039\n"
     ]
    }
   ],
   "source": [
    "results4 = {}\n",
    "for seed in range(0,1):\n",
    "    print(\"\\nSeed:\", seed)\n",
    "    results4[seed] = run_an_experiment(seed, 0.9, (6,1), algs_to_test, \n",
    "                                       weight_function_distance,\n",
    "                      fewest_nodes_per_add=1, max_nodes_per_add=6,\n",
    "                      p_buyer=0.4, num_runs=500, size=(10,10))"
   ]
  },
  {
   "cell_type": "code",
   "execution_count": 14,
   "metadata": {
    "collapsed": true
   },
   "outputs": [],
   "source": [
    "def print_some_things(result_dict):\n",
    "    for seed in result_dict.keys():\n",
    "        print(\"Seed:\", seed)\n",
    "        for alg_name, res in result_dict[seed].items():\n",
    "            print(\"Alg:\", alg_name)\n",
    "            weights, discarded_buyers, discarded_sellers, matched_wait_times = res\n",
    "            avg_weight_matching = np.mean([w[0] for w in weights])\n",
    "            n_matched_nodes = len(weights)*2 # because a match is 2 nodes\n",
    "            num_discarded_buyers = np.sum([d[0] for d in discarded_buyers])\n",
    "            num_discarded_sellers = np.sum([d[0] for d in discarded_sellers])\n",
    "            n_nodes = n_matched_nodes + num_discarded_buyers + num_discarded_sellers\n",
    "            avg_weight_per_node = (avg_weight_matching * n_matched_nodes) / n_nodes\n",
    "            print(\"Average weight per matching:\", avg_weight_matching)\n",
    "            print(\"Average weight per node:\", avg_weight_per_node)\n",
    "            print(\"Number of nodes: {}, matches: {}\".format(n_nodes, len(weights)))\n",
    "            print(\"Number of dropped buyers: {}, sellers: {}\".format(\n",
    "                num_discarded_buyers,\n",
    "                num_discarded_sellers\n",
    "            ))"
   ]
  },
  {
   "cell_type": "code",
   "execution_count": 15,
   "metadata": {},
   "outputs": [
    {
     "name": "stdout",
     "output_type": "stream",
     "text": [
      "Seed: 0\n",
      "Alg: greedy\n",
      "Average weight per matching: 0.41633861974262093\n",
      "Average weight per node: 0.2215225066557632\n",
      "Number of nodes: 1481, matches: 394\n",
      "Number of dropped buyers: 355, sellers: 338\n",
      "Alg: dfa\n",
      "Average weight per matching: 0.36551927356512703\n",
      "Average weight per node: 0.23315015392014277\n",
      "Number of nodes: 1458, matches: 465\n",
      "Number of dropped buyers: 235, sellers: 293\n",
      "Alg: lookahead1\n",
      "Average weight per matching: 0.35046899716758073\n",
      "Average weight per node: 0.23271513756147458\n",
      "Number of nodes: 1506, matches: 500\n",
      "Number of dropped buyers: 246, sellers: 260\n",
      "Alg: lookahead3\n",
      "Average weight per matching: 0.37637846161267574\n",
      "Average weight per node: 0.25008201985738826\n",
      "Number of nodes: 1499, matches: 498\n",
      "Number of dropped buyers: 264, sellers: 239\n",
      "Alg: lookahead5\n",
      "Average weight per matching: 0.3353204734573441\n",
      "Average weight per node: 0.22142948720863861\n",
      "Number of nodes: 1478, matches: 488\n",
      "Number of dropped buyers: 256, sellers: 246\n"
     ]
    }
   ],
   "source": [
    "print_some_things(results1)"
   ]
  },
  {
   "cell_type": "code",
   "execution_count": 16,
   "metadata": {},
   "outputs": [
    {
     "name": "stdout",
     "output_type": "stream",
     "text": [
      "Seed: 0\n",
      "Alg: greedy\n",
      "Average weight per matching: 2.5222050873719004\n",
      "Average weight per node: 0.8750174283697985\n",
      "Number of nodes: 1545, matches: 268\n",
      "Number of dropped buyers: 499, sellers: 510\n",
      "Alg: dfa\n",
      "Average weight per matching: 1.723709234737759\n",
      "Average weight per node: 0.9922288767566751\n",
      "Number of nodes: 1494, matches: 430\n",
      "Number of dropped buyers: 326, sellers: 308\n",
      "Alg: lookahead1\n",
      "Average weight per matching: 1.918841801898989\n",
      "Average weight per node: 1.018786266078106\n",
      "Number of nodes: 1503, matches: 399\n",
      "Number of dropped buyers: 338, sellers: 367\n",
      "Alg: lookahead3\n",
      "Average weight per matching: 1.6222252928645655\n",
      "Average weight per node: 0.9330011588742925\n",
      "Number of nodes: 1464, matches: 421\n",
      "Number of dropped buyers: 327, sellers: 295\n",
      "Alg: lookahead5\n",
      "Average weight per matching: 1.7498474019067884\n",
      "Average weight per node: 0.9576867537462828\n",
      "Number of nodes: 1480, matches: 405\n",
      "Number of dropped buyers: 333, sellers: 337\n"
     ]
    }
   ],
   "source": [
    "print_some_things(results2)"
   ]
  },
  {
   "cell_type": "code",
   "execution_count": 17,
   "metadata": {},
   "outputs": [
    {
     "name": "stdout",
     "output_type": "stream",
     "text": [
      "Seed: 0\n",
      "Alg: greedy\n",
      "Average weight per matching: 0.4211391257310827\n",
      "Average weight per node: 0.2149417373121802\n",
      "Number of nodes: 1493, matches: 381\n",
      "Number of dropped buyers: 541, sellers: 190\n",
      "Alg: dfa\n",
      "Average weight per matching: 0.35315997894449114\n",
      "Average weight per node: 0.23669232631386108\n",
      "Number of nodes: 1504, matches: 504\n",
      "Number of dropped buyers: 393, sellers: 103\n",
      "Alg: lookahead1\n",
      "Average weight per matching: 0.32184209295382177\n",
      "Average weight per node: 0.22281375666033815\n",
      "Number of nodes: 1508, matches: 522\n",
      "Number of dropped buyers: 402, sellers: 62\n",
      "Alg: lookahead3\n",
      "Average weight per matching: 0.34522186846899405\n",
      "Average weight per node: 0.2362991928894679\n",
      "Number of nodes: 1534, matches: 525\n",
      "Number of dropped buyers: 375, sellers: 109\n",
      "Alg: lookahead5\n",
      "Average weight per matching: 0.325247291659145\n",
      "Average weight per node: 0.22565522570080776\n",
      "Number of nodes: 1499, matches: 520\n",
      "Number of dropped buyers: 386, sellers: 73\n"
     ]
    }
   ],
   "source": [
    "print_some_things(results3)"
   ]
  },
  {
   "cell_type": "code",
   "execution_count": 18,
   "metadata": {},
   "outputs": [
    {
     "name": "stdout",
     "output_type": "stream",
     "text": [
      "Seed: 0\n",
      "Alg: greedy\n",
      "Average weight per matching: 0.42598108091369546\n",
      "Average weight per node: 0.21170660551772408\n",
      "Number of nodes: 1493, matches: 371\n",
      "Number of dropped buyers: 261, sellers: 490\n",
      "Alg: dfa\n",
      "Average weight per matching: 0.3682993098886394\n",
      "Average weight per node: 0.20469475676220067\n",
      "Number of nodes: 1461, matches: 406\n",
      "Number of dropped buyers: 170, sellers: 479\n",
      "Alg: lookahead1\n",
      "Average weight per matching: 0.37650595928142994\n",
      "Average weight per node: 0.22777221681545928\n",
      "Number of nodes: 1491, matches: 451\n",
      "Number of dropped buyers: 170, sellers: 419\n",
      "Alg: lookahead3\n",
      "Average weight per matching: 0.36663330007653233\n",
      "Average weight per node: 0.20425973699609348\n",
      "Number of nodes: 1418, matches: 395\n",
      "Number of dropped buyers: 154, sellers: 474\n",
      "Alg: lookahead5\n",
      "Average weight per matching: 0.3650310323831039\n",
      "Average weight per node: 0.20962178097247552\n",
      "Number of nodes: 1515, matches: 435\n",
      "Number of dropped buyers: 167, sellers: 478\n"
     ]
    }
   ],
   "source": [
    "print_some_things(results4)"
   ]
  },
  {
   "cell_type": "code",
   "execution_count": 19,
   "metadata": {
    "collapsed": true
   },
   "outputs": [],
   "source": [
    "import pandas as pd"
   ]
  },
  {
   "cell_type": "code",
   "execution_count": 84,
   "metadata": {
    "collapsed": true
   },
   "outputs": [],
   "source": [
    "def make_dataframe(results, seed=0):\n",
    "    aggregates = {}\n",
    "    for alg_name, res in results[seed].items():\n",
    "        weights, discarded_buyers, discarded_sellers, matched_wait_times = res\n",
    "        just_weights = [w[0] for w in weights]\n",
    "        avg_weight_matching = np.mean(just_weights)\n",
    "        n_matched_nodes = len(weights)*2 # because a match is 2 nodes\n",
    "        num_discarded_buyers = np.sum([d[0] for d in discarded_buyers])\n",
    "        num_discarded_sellers = np.sum([d[0] for d in discarded_sellers])\n",
    "        n_nodes = n_matched_nodes + num_discarded_buyers + num_discarded_sellers\n",
    "        avg_weight_per_node = (avg_weight_matching * n_matched_nodes) / n_nodes\n",
    "        this_alg_aggregates = {}\n",
    "        this_alg_aggregates[\"avg_weight_matching\"] = avg_weight_matching\n",
    "        this_alg_aggregates[\"avg_weight_per_node\"] = avg_weight_per_node\n",
    "        weights_with_0s = []\n",
    "        for match in just_weights:\n",
    "            weights_with_0s.extend([match,match])\n",
    "        weights_with_0s.extend([0]*(num_discarded_buyers + num_discarded_sellers))\n",
    "        this_alg_aggregates[\"weight_per_node_stddev\"] = np.std(weights_with_0s)\n",
    "        this_alg_aggregates[\"num_discarded_sellers\"] = num_discarded_sellers\n",
    "        this_alg_aggregates[\"num_discarded_buyers\"] = num_discarded_buyers\n",
    "        aggregates[alg_name] = this_alg_aggregates\n",
    "    return pd.DataFrame(aggregates)\n",
    "\n"
   ]
  },
  {
   "cell_type": "code",
   "execution_count": 85,
   "metadata": {},
   "outputs": [
    {
     "data": {
      "text/html": [
       "<div>\n",
       "<style>\n",
       "    .dataframe thead tr:only-child th {\n",
       "        text-align: right;\n",
       "    }\n",
       "\n",
       "    .dataframe thead th {\n",
       "        text-align: left;\n",
       "    }\n",
       "\n",
       "    .dataframe tbody tr th {\n",
       "        vertical-align: top;\n",
       "    }\n",
       "</style>\n",
       "<table border=\"1\" class=\"dataframe\">\n",
       "  <thead>\n",
       "    <tr style=\"text-align: right;\">\n",
       "      <th></th>\n",
       "      <th>dfa</th>\n",
       "      <th>greedy</th>\n",
       "      <th>lookahead1</th>\n",
       "      <th>lookahead3</th>\n",
       "      <th>lookahead5</th>\n",
       "    </tr>\n",
       "  </thead>\n",
       "  <tbody>\n",
       "    <tr>\n",
       "      <th>avg_weight_matching</th>\n",
       "      <td>0.365519</td>\n",
       "      <td>0.416339</td>\n",
       "      <td>0.350469</td>\n",
       "      <td>0.376378</td>\n",
       "      <td>0.335320</td>\n",
       "    </tr>\n",
       "    <tr>\n",
       "      <th>avg_weight_per_node</th>\n",
       "      <td>0.233150</td>\n",
       "      <td>0.221523</td>\n",
       "      <td>0.232715</td>\n",
       "      <td>0.250082</td>\n",
       "      <td>0.221429</td>\n",
       "    </tr>\n",
       "    <tr>\n",
       "      <th>num_discarded_buyers</th>\n",
       "      <td>235.000000</td>\n",
       "      <td>355.000000</td>\n",
       "      <td>246.000000</td>\n",
       "      <td>264.000000</td>\n",
       "      <td>256.000000</td>\n",
       "    </tr>\n",
       "    <tr>\n",
       "      <th>num_discarded_sellers</th>\n",
       "      <td>293.000000</td>\n",
       "      <td>338.000000</td>\n",
       "      <td>260.000000</td>\n",
       "      <td>239.000000</td>\n",
       "      <td>246.000000</td>\n",
       "    </tr>\n",
       "    <tr>\n",
       "      <th>weight_per_node_stddev</th>\n",
       "      <td>0.289529</td>\n",
       "      <td>0.281174</td>\n",
       "      <td>0.288016</td>\n",
       "      <td>0.287652</td>\n",
       "      <td>0.276421</td>\n",
       "    </tr>\n",
       "  </tbody>\n",
       "</table>\n",
       "</div>"
      ],
      "text/plain": [
       "                               dfa      greedy  lookahead1  lookahead3  \\\n",
       "avg_weight_matching       0.365519    0.416339    0.350469    0.376378   \n",
       "avg_weight_per_node       0.233150    0.221523    0.232715    0.250082   \n",
       "num_discarded_buyers    235.000000  355.000000  246.000000  264.000000   \n",
       "num_discarded_sellers   293.000000  338.000000  260.000000  239.000000   \n",
       "weight_per_node_stddev    0.289529    0.281174    0.288016    0.287652   \n",
       "\n",
       "                        lookahead5  \n",
       "avg_weight_matching       0.335320  \n",
       "avg_weight_per_node       0.221429  \n",
       "num_discarded_buyers    256.000000  \n",
       "num_discarded_sellers   246.000000  \n",
       "weight_per_node_stddev    0.276421  "
      ]
     },
     "execution_count": 85,
     "metadata": {},
     "output_type": "execute_result"
    }
   ],
   "source": [
    "make_dataframe(results1)"
   ]
  },
  {
   "cell_type": "code",
   "execution_count": 86,
   "metadata": {},
   "outputs": [
    {
     "data": {
      "text/html": [
       "<div>\n",
       "<style>\n",
       "    .dataframe thead tr:only-child th {\n",
       "        text-align: right;\n",
       "    }\n",
       "\n",
       "    .dataframe thead th {\n",
       "        text-align: left;\n",
       "    }\n",
       "\n",
       "    .dataframe tbody tr th {\n",
       "        vertical-align: top;\n",
       "    }\n",
       "</style>\n",
       "<table border=\"1\" class=\"dataframe\">\n",
       "  <thead>\n",
       "    <tr style=\"text-align: right;\">\n",
       "      <th></th>\n",
       "      <th>dfa</th>\n",
       "      <th>greedy</th>\n",
       "      <th>lookahead1</th>\n",
       "      <th>lookahead3</th>\n",
       "      <th>lookahead5</th>\n",
       "    </tr>\n",
       "  </thead>\n",
       "  <tbody>\n",
       "    <tr>\n",
       "      <th>avg_weight_matching</th>\n",
       "      <td>1.723709</td>\n",
       "      <td>2.522205</td>\n",
       "      <td>1.918842</td>\n",
       "      <td>1.622225</td>\n",
       "      <td>1.749847</td>\n",
       "    </tr>\n",
       "    <tr>\n",
       "      <th>avg_weight_per_node</th>\n",
       "      <td>0.992229</td>\n",
       "      <td>0.875017</td>\n",
       "      <td>1.018786</td>\n",
       "      <td>0.933001</td>\n",
       "      <td>0.957687</td>\n",
       "    </tr>\n",
       "    <tr>\n",
       "      <th>num_discarded_buyers</th>\n",
       "      <td>326.000000</td>\n",
       "      <td>499.000000</td>\n",
       "      <td>338.000000</td>\n",
       "      <td>327.000000</td>\n",
       "      <td>333.000000</td>\n",
       "    </tr>\n",
       "    <tr>\n",
       "      <th>num_discarded_sellers</th>\n",
       "      <td>308.000000</td>\n",
       "      <td>510.000000</td>\n",
       "      <td>367.000000</td>\n",
       "      <td>295.000000</td>\n",
       "      <td>337.000000</td>\n",
       "    </tr>\n",
       "    <tr>\n",
       "      <th>weight_per_node_stddev</th>\n",
       "      <td>1.487960</td>\n",
       "      <td>1.568882</td>\n",
       "      <td>1.598831</td>\n",
       "      <td>1.392321</td>\n",
       "      <td>1.467428</td>\n",
       "    </tr>\n",
       "  </tbody>\n",
       "</table>\n",
       "</div>"
      ],
      "text/plain": [
       "                               dfa      greedy  lookahead1  lookahead3  \\\n",
       "avg_weight_matching       1.723709    2.522205    1.918842    1.622225   \n",
       "avg_weight_per_node       0.992229    0.875017    1.018786    0.933001   \n",
       "num_discarded_buyers    326.000000  499.000000  338.000000  327.000000   \n",
       "num_discarded_sellers   308.000000  510.000000  367.000000  295.000000   \n",
       "weight_per_node_stddev    1.487960    1.568882    1.598831    1.392321   \n",
       "\n",
       "                        lookahead5  \n",
       "avg_weight_matching       1.749847  \n",
       "avg_weight_per_node       0.957687  \n",
       "num_discarded_buyers    333.000000  \n",
       "num_discarded_sellers   337.000000  \n",
       "weight_per_node_stddev    1.467428  "
      ]
     },
     "execution_count": 86,
     "metadata": {},
     "output_type": "execute_result"
    }
   ],
   "source": [
    "make_dataframe(results2)"
   ]
  },
  {
   "cell_type": "code",
   "execution_count": 87,
   "metadata": {},
   "outputs": [
    {
     "data": {
      "text/html": [
       "<div>\n",
       "<style>\n",
       "    .dataframe thead tr:only-child th {\n",
       "        text-align: right;\n",
       "    }\n",
       "\n",
       "    .dataframe thead th {\n",
       "        text-align: left;\n",
       "    }\n",
       "\n",
       "    .dataframe tbody tr th {\n",
       "        vertical-align: top;\n",
       "    }\n",
       "</style>\n",
       "<table border=\"1\" class=\"dataframe\">\n",
       "  <thead>\n",
       "    <tr style=\"text-align: right;\">\n",
       "      <th></th>\n",
       "      <th>dfa</th>\n",
       "      <th>greedy</th>\n",
       "      <th>lookahead1</th>\n",
       "      <th>lookahead3</th>\n",
       "      <th>lookahead5</th>\n",
       "    </tr>\n",
       "  </thead>\n",
       "  <tbody>\n",
       "    <tr>\n",
       "      <th>avg_weight_matching</th>\n",
       "      <td>0.353160</td>\n",
       "      <td>0.421139</td>\n",
       "      <td>0.321842</td>\n",
       "      <td>0.345222</td>\n",
       "      <td>0.325247</td>\n",
       "    </tr>\n",
       "    <tr>\n",
       "      <th>avg_weight_per_node</th>\n",
       "      <td>0.236692</td>\n",
       "      <td>0.214942</td>\n",
       "      <td>0.222814</td>\n",
       "      <td>0.236299</td>\n",
       "      <td>0.225655</td>\n",
       "    </tr>\n",
       "    <tr>\n",
       "      <th>num_discarded_buyers</th>\n",
       "      <td>393.000000</td>\n",
       "      <td>541.000000</td>\n",
       "      <td>402.000000</td>\n",
       "      <td>375.000000</td>\n",
       "      <td>386.000000</td>\n",
       "    </tr>\n",
       "    <tr>\n",
       "      <th>num_discarded_sellers</th>\n",
       "      <td>103.000000</td>\n",
       "      <td>190.000000</td>\n",
       "      <td>62.000000</td>\n",
       "      <td>109.000000</td>\n",
       "      <td>73.000000</td>\n",
       "    </tr>\n",
       "    <tr>\n",
       "      <th>weight_per_node_stddev</th>\n",
       "      <td>0.286587</td>\n",
       "      <td>0.286497</td>\n",
       "      <td>0.260082</td>\n",
       "      <td>0.287262</td>\n",
       "      <td>0.274015</td>\n",
       "    </tr>\n",
       "  </tbody>\n",
       "</table>\n",
       "</div>"
      ],
      "text/plain": [
       "                               dfa      greedy  lookahead1  lookahead3  \\\n",
       "avg_weight_matching       0.353160    0.421139    0.321842    0.345222   \n",
       "avg_weight_per_node       0.236692    0.214942    0.222814    0.236299   \n",
       "num_discarded_buyers    393.000000  541.000000  402.000000  375.000000   \n",
       "num_discarded_sellers   103.000000  190.000000   62.000000  109.000000   \n",
       "weight_per_node_stddev    0.286587    0.286497    0.260082    0.287262   \n",
       "\n",
       "                        lookahead5  \n",
       "avg_weight_matching       0.325247  \n",
       "avg_weight_per_node       0.225655  \n",
       "num_discarded_buyers    386.000000  \n",
       "num_discarded_sellers    73.000000  \n",
       "weight_per_node_stddev    0.274015  "
      ]
     },
     "execution_count": 87,
     "metadata": {},
     "output_type": "execute_result"
    }
   ],
   "source": [
    "make_dataframe(results3)"
   ]
  },
  {
   "cell_type": "code",
   "execution_count": 88,
   "metadata": {},
   "outputs": [
    {
     "data": {
      "text/html": [
       "<div>\n",
       "<style>\n",
       "    .dataframe thead tr:only-child th {\n",
       "        text-align: right;\n",
       "    }\n",
       "\n",
       "    .dataframe thead th {\n",
       "        text-align: left;\n",
       "    }\n",
       "\n",
       "    .dataframe tbody tr th {\n",
       "        vertical-align: top;\n",
       "    }\n",
       "</style>\n",
       "<table border=\"1\" class=\"dataframe\">\n",
       "  <thead>\n",
       "    <tr style=\"text-align: right;\">\n",
       "      <th></th>\n",
       "      <th>dfa</th>\n",
       "      <th>greedy</th>\n",
       "      <th>lookahead1</th>\n",
       "      <th>lookahead3</th>\n",
       "      <th>lookahead5</th>\n",
       "    </tr>\n",
       "  </thead>\n",
       "  <tbody>\n",
       "    <tr>\n",
       "      <th>avg_weight_matching</th>\n",
       "      <td>0.368299</td>\n",
       "      <td>0.425981</td>\n",
       "      <td>0.376506</td>\n",
       "      <td>0.366633</td>\n",
       "      <td>0.365031</td>\n",
       "    </tr>\n",
       "    <tr>\n",
       "      <th>avg_weight_per_node</th>\n",
       "      <td>0.204695</td>\n",
       "      <td>0.211707</td>\n",
       "      <td>0.227772</td>\n",
       "      <td>0.204260</td>\n",
       "      <td>0.209622</td>\n",
       "    </tr>\n",
       "    <tr>\n",
       "      <th>num_discarded_buyers</th>\n",
       "      <td>170.000000</td>\n",
       "      <td>261.000000</td>\n",
       "      <td>170.000000</td>\n",
       "      <td>154.000000</td>\n",
       "      <td>167.000000</td>\n",
       "    </tr>\n",
       "    <tr>\n",
       "      <th>num_discarded_sellers</th>\n",
       "      <td>479.000000</td>\n",
       "      <td>490.000000</td>\n",
       "      <td>419.000000</td>\n",
       "      <td>474.000000</td>\n",
       "      <td>478.000000</td>\n",
       "    </tr>\n",
       "    <tr>\n",
       "      <th>weight_per_node_stddev</th>\n",
       "      <td>0.283773</td>\n",
       "      <td>0.280262</td>\n",
       "      <td>0.289507</td>\n",
       "      <td>0.271003</td>\n",
       "      <td>0.272604</td>\n",
       "    </tr>\n",
       "  </tbody>\n",
       "</table>\n",
       "</div>"
      ],
      "text/plain": [
       "                               dfa      greedy  lookahead1  lookahead3  \\\n",
       "avg_weight_matching       0.368299    0.425981    0.376506    0.366633   \n",
       "avg_weight_per_node       0.204695    0.211707    0.227772    0.204260   \n",
       "num_discarded_buyers    170.000000  261.000000  170.000000  154.000000   \n",
       "num_discarded_sellers   479.000000  490.000000  419.000000  474.000000   \n",
       "weight_per_node_stddev    0.283773    0.280262    0.289507    0.271003   \n",
       "\n",
       "                        lookahead5  \n",
       "avg_weight_matching       0.365031  \n",
       "avg_weight_per_node       0.209622  \n",
       "num_discarded_buyers    167.000000  \n",
       "num_discarded_sellers   478.000000  \n",
       "weight_per_node_stddev    0.272604  "
      ]
     },
     "execution_count": 88,
     "metadata": {},
     "output_type": "execute_result"
    }
   ],
   "source": [
    "make_dataframe(results4)"
   ]
  },
  {
   "cell_type": "code",
   "execution_count": 90,
   "metadata": {},
   "outputs": [
    {
     "name": "stderr",
     "output_type": "stream",
     "text": [
      "/Users/Derek/anaconda3/lib/python3.6/site-packages/numpy/core/fromnumeric.py:2957: RuntimeWarning: Mean of empty slice.\n",
      "  out=out, **kwargs)\n",
      "/Users/Derek/anaconda3/lib/python3.6/site-packages/numpy/core/_methods.py:80: RuntimeWarning: invalid value encountered in double_scalars\n",
      "  ret = ret.dtype.type(ret / rcount)\n"
     ]
    },
    {
     "name": "stdout",
     "output_type": "stream",
     "text": [
      "The greedy algorithm had an average weight of nan\n",
      "The dfa algorithm had an average weight of 5.3370823850885065\n",
      "The lookahead1 algorithm had an average weight of 5.4370436672771865\n",
      "The lookahead3 algorithm had an average weight of 5.741496413616814\n",
      "The lookahead5 algorithm had an average weight of 5.5511486957429454\n",
      "The greedy algorithm had an average weight of 13.636363636363637\n",
      "The dfa algorithm had an average weight of 8.929159154747966\n",
      "The lookahead1 algorithm had an average weight of 8.94846736690906\n",
      "The lookahead3 algorithm had an average weight of 8.96976739978507\n",
      "The lookahead5 algorithm had an average weight of 9.264271007632214\n",
      "The greedy algorithm had an average weight of nan\n",
      "The dfa algorithm had an average weight of 51.84335504140279\n",
      "The lookahead1 algorithm had an average weight of 54.96597085283391\n",
      "The lookahead3 algorithm had an average weight of 56.25879655153048\n",
      "The lookahead5 algorithm had an average weight of 54.16657311659208\n"
     ]
    }
   ],
   "source": [
    "# difference is weighting of time / distance components.\n",
    "def weight_function_d_and_time_sep1(buyer_pos, buyer_d, seller_pos, seller_d):\n",
    "    bx, by = buyer_pos\n",
    "    sx, sy = seller_pos\n",
    "    return (buyer_d + seller_d) + 1/(1 + (bx-sx)**2 + (by-sy)**2)\n",
    "def weight_function_d_and_time_sep2(buyer_pos, buyer_d, seller_pos, seller_d):\n",
    "    bx, by = buyer_pos\n",
    "    sx, sy = seller_pos\n",
    "    return (buyer_d + seller_d) + 10*1/(1 + (bx-sx)**2 + (by-sy)**2)\n",
    "def weight_function_d_and_time_sep3(buyer_pos, buyer_d, seller_pos, seller_d):\n",
    "    bx, by = buyer_pos\n",
    "    sx, sy = seller_pos\n",
    "    return 10*(buyer_d + seller_d) + 1/(1 + (bx-sx)**2 + (by-sy)**2)\n",
    "\n",
    "results_time_sep_1 = {}\n",
    "results_time_sep_2 = {}\n",
    "results_time_sep_3 = {}\n",
    "seed = 0\n",
    "results_time_sep_1[seed] = run_an_experiment(\n",
    "    seed, 0.9, (6,1), algs_to_test, \n",
    "    weight_function_d_and_time_sep1,\n",
    "    fewest_nodes_per_add=1, max_nodes_per_add=6,\n",
    "    p_buyer=0.5, num_runs=500, size=(10,10), recalc=True)\n",
    "results_time_sep_2[seed] = run_an_experiment(\n",
    "    seed, 0.9, (6,1), algs_to_test, \n",
    "    weight_function_d_and_time_sep2,\n",
    "    fewest_nodes_per_add=1, max_nodes_per_add=6,\n",
    "    p_buyer=0.5, num_runs=500, size=(10,10), recalc=True)\n",
    "results_time_sep_3[seed] = run_an_experiment(\n",
    "    seed, 0.9, (6,1), algs_to_test, \n",
    "    weight_function_d_and_time_sep3,\n",
    "    fewest_nodes_per_add=1, max_nodes_per_add=6,\n",
    "    p_buyer=0.5, num_runs=500, size=(10,10), recalc=True)\n",
    "    "
   ]
  },
  {
   "cell_type": "code",
   "execution_count": 91,
   "metadata": {},
   "outputs": [
    {
     "name": "stderr",
     "output_type": "stream",
     "text": [
      "/Users/Derek/anaconda3/lib/python3.6/site-packages/numpy/core/fromnumeric.py:2957: RuntimeWarning: Mean of empty slice.\n",
      "  out=out, **kwargs)\n",
      "/Users/Derek/anaconda3/lib/python3.6/site-packages/numpy/core/_methods.py:80: RuntimeWarning: invalid value encountered in double_scalars\n",
      "  ret = ret.dtype.type(ret / rcount)\n"
     ]
    },
    {
     "data": {
      "text/html": [
       "<div>\n",
       "<style>\n",
       "    .dataframe thead tr:only-child th {\n",
       "        text-align: right;\n",
       "    }\n",
       "\n",
       "    .dataframe thead th {\n",
       "        text-align: left;\n",
       "    }\n",
       "\n",
       "    .dataframe tbody tr th {\n",
       "        vertical-align: top;\n",
       "    }\n",
       "</style>\n",
       "<table border=\"1\" class=\"dataframe\">\n",
       "  <thead>\n",
       "    <tr style=\"text-align: right;\">\n",
       "      <th></th>\n",
       "      <th>dfa</th>\n",
       "      <th>greedy</th>\n",
       "      <th>lookahead1</th>\n",
       "      <th>lookahead3</th>\n",
       "      <th>lookahead5</th>\n",
       "    </tr>\n",
       "  </thead>\n",
       "  <tbody>\n",
       "    <tr>\n",
       "      <th>avg_weight_matching</th>\n",
       "      <td>5.337082</td>\n",
       "      <td>NaN</td>\n",
       "      <td>5.437044</td>\n",
       "      <td>5.741496</td>\n",
       "      <td>5.551149</td>\n",
       "    </tr>\n",
       "    <tr>\n",
       "      <th>avg_weight_per_node</th>\n",
       "      <td>1.940076</td>\n",
       "      <td>NaN</td>\n",
       "      <td>2.113414</td>\n",
       "      <td>1.850825</td>\n",
       "      <td>2.132476</td>\n",
       "    </tr>\n",
       "    <tr>\n",
       "      <th>num_discarded_buyers</th>\n",
       "      <td>457.000000</td>\n",
       "      <td>745.0</td>\n",
       "      <td>469.000000</td>\n",
       "      <td>464.000000</td>\n",
       "      <td>442.000000</td>\n",
       "    </tr>\n",
       "    <tr>\n",
       "      <th>num_discarded_sellers</th>\n",
       "      <td>450.000000</td>\n",
       "      <td>761.0</td>\n",
       "      <td>462.000000</td>\n",
       "      <td>524.000000</td>\n",
       "      <td>475.000000</td>\n",
       "    </tr>\n",
       "    <tr>\n",
       "      <th>weight_per_node_stddev</th>\n",
       "      <td>2.783290</td>\n",
       "      <td>0.0</td>\n",
       "      <td>2.899265</td>\n",
       "      <td>2.871310</td>\n",
       "      <td>2.938212</td>\n",
       "    </tr>\n",
       "  </tbody>\n",
       "</table>\n",
       "</div>"
      ],
      "text/plain": [
       "                               dfa  greedy  lookahead1  lookahead3  lookahead5\n",
       "avg_weight_matching       5.337082     NaN    5.437044    5.741496    5.551149\n",
       "avg_weight_per_node       1.940076     NaN    2.113414    1.850825    2.132476\n",
       "num_discarded_buyers    457.000000   745.0  469.000000  464.000000  442.000000\n",
       "num_discarded_sellers   450.000000   761.0  462.000000  524.000000  475.000000\n",
       "weight_per_node_stddev    2.783290     0.0    2.899265    2.871310    2.938212"
      ]
     },
     "execution_count": 91,
     "metadata": {},
     "output_type": "execute_result"
    }
   ],
   "source": [
    "make_dataframe(results_time_sep_1)"
   ]
  },
  {
   "cell_type": "code",
   "execution_count": 92,
   "metadata": {},
   "outputs": [
    {
     "data": {
      "text/html": [
       "<div>\n",
       "<style>\n",
       "    .dataframe thead tr:only-child th {\n",
       "        text-align: right;\n",
       "    }\n",
       "\n",
       "    .dataframe thead th {\n",
       "        text-align: left;\n",
       "    }\n",
       "\n",
       "    .dataframe tbody tr th {\n",
       "        vertical-align: top;\n",
       "    }\n",
       "</style>\n",
       "<table border=\"1\" class=\"dataframe\">\n",
       "  <thead>\n",
       "    <tr style=\"text-align: right;\">\n",
       "      <th></th>\n",
       "      <th>dfa</th>\n",
       "      <th>greedy</th>\n",
       "      <th>lookahead1</th>\n",
       "      <th>lookahead3</th>\n",
       "      <th>lookahead5</th>\n",
       "    </tr>\n",
       "  </thead>\n",
       "  <tbody>\n",
       "    <tr>\n",
       "      <th>avg_weight_matching</th>\n",
       "      <td>8.929159</td>\n",
       "      <td>13.636364</td>\n",
       "      <td>8.948467</td>\n",
       "      <td>8.969767</td>\n",
       "      <td>9.264271</td>\n",
       "    </tr>\n",
       "    <tr>\n",
       "      <th>avg_weight_per_node</th>\n",
       "      <td>4.194091</td>\n",
       "      <td>1.204013</td>\n",
       "      <td>4.191746</td>\n",
       "      <td>4.137952</td>\n",
       "      <td>4.241172</td>\n",
       "    </tr>\n",
       "    <tr>\n",
       "      <th>num_discarded_buyers</th>\n",
       "      <td>390.000000</td>\n",
       "      <td>638.000000</td>\n",
       "      <td>403.000000</td>\n",
       "      <td>410.000000</td>\n",
       "      <td>398.000000</td>\n",
       "    </tr>\n",
       "    <tr>\n",
       "      <th>num_discarded_sellers</th>\n",
       "      <td>389.000000</td>\n",
       "      <td>725.000000</td>\n",
       "      <td>380.000000</td>\n",
       "      <td>356.000000</td>\n",
       "      <td>405.000000</td>\n",
       "    </tr>\n",
       "    <tr>\n",
       "      <th>weight_per_node_stddev</th>\n",
       "      <td>5.007646</td>\n",
       "      <td>3.956010</td>\n",
       "      <td>4.973823</td>\n",
       "      <td>4.998293</td>\n",
       "      <td>5.138095</td>\n",
       "    </tr>\n",
       "  </tbody>\n",
       "</table>\n",
       "</div>"
      ],
      "text/plain": [
       "                               dfa      greedy  lookahead1  lookahead3  \\\n",
       "avg_weight_matching       8.929159   13.636364    8.948467    8.969767   \n",
       "avg_weight_per_node       4.194091    1.204013    4.191746    4.137952   \n",
       "num_discarded_buyers    390.000000  638.000000  403.000000  410.000000   \n",
       "num_discarded_sellers   389.000000  725.000000  380.000000  356.000000   \n",
       "weight_per_node_stddev    5.007646    3.956010    4.973823    4.998293   \n",
       "\n",
       "                        lookahead5  \n",
       "avg_weight_matching       9.264271  \n",
       "avg_weight_per_node       4.241172  \n",
       "num_discarded_buyers    398.000000  \n",
       "num_discarded_sellers   405.000000  \n",
       "weight_per_node_stddev    5.138095  "
      ]
     },
     "execution_count": 92,
     "metadata": {},
     "output_type": "execute_result"
    }
   ],
   "source": [
    "make_dataframe(results_time_sep_2)"
   ]
  },
  {
   "cell_type": "code",
   "execution_count": 93,
   "metadata": {},
   "outputs": [
    {
     "name": "stderr",
     "output_type": "stream",
     "text": [
      "/Users/Derek/anaconda3/lib/python3.6/site-packages/numpy/core/fromnumeric.py:2957: RuntimeWarning: Mean of empty slice.\n",
      "  out=out, **kwargs)\n",
      "/Users/Derek/anaconda3/lib/python3.6/site-packages/numpy/core/_methods.py:80: RuntimeWarning: invalid value encountered in double_scalars\n",
      "  ret = ret.dtype.type(ret / rcount)\n"
     ]
    },
    {
     "data": {
      "text/html": [
       "<div>\n",
       "<style>\n",
       "    .dataframe thead tr:only-child th {\n",
       "        text-align: right;\n",
       "    }\n",
       "\n",
       "    .dataframe thead th {\n",
       "        text-align: left;\n",
       "    }\n",
       "\n",
       "    .dataframe tbody tr th {\n",
       "        vertical-align: top;\n",
       "    }\n",
       "</style>\n",
       "<table border=\"1\" class=\"dataframe\">\n",
       "  <thead>\n",
       "    <tr style=\"text-align: right;\">\n",
       "      <th></th>\n",
       "      <th>dfa</th>\n",
       "      <th>greedy</th>\n",
       "      <th>lookahead1</th>\n",
       "      <th>lookahead3</th>\n",
       "      <th>lookahead5</th>\n",
       "    </tr>\n",
       "  </thead>\n",
       "  <tbody>\n",
       "    <tr>\n",
       "      <th>avg_weight_matching</th>\n",
       "      <td>51.843355</td>\n",
       "      <td>NaN</td>\n",
       "      <td>54.965971</td>\n",
       "      <td>56.258797</td>\n",
       "      <td>54.166573</td>\n",
       "    </tr>\n",
       "    <tr>\n",
       "      <th>avg_weight_per_node</th>\n",
       "      <td>18.139881</td>\n",
       "      <td>NaN</td>\n",
       "      <td>19.121859</td>\n",
       "      <td>21.219393</td>\n",
       "      <td>20.019625</td>\n",
       "    </tr>\n",
       "    <tr>\n",
       "      <th>num_discarded_buyers</th>\n",
       "      <td>474.000000</td>\n",
       "      <td>692.0</td>\n",
       "      <td>476.000000</td>\n",
       "      <td>466.000000</td>\n",
       "      <td>492.000000</td>\n",
       "    </tr>\n",
       "    <tr>\n",
       "      <th>num_discarded_sellers</th>\n",
       "      <td>481.000000</td>\n",
       "      <td>805.0</td>\n",
       "      <td>480.000000</td>\n",
       "      <td>429.000000</td>\n",
       "      <td>470.000000</td>\n",
       "    </tr>\n",
       "    <tr>\n",
       "      <th>weight_per_node_stddev</th>\n",
       "      <td>27.011745</td>\n",
       "      <td>0.0</td>\n",
       "      <td>28.115934</td>\n",
       "      <td>29.319995</td>\n",
       "      <td>28.208929</td>\n",
       "    </tr>\n",
       "  </tbody>\n",
       "</table>\n",
       "</div>"
      ],
      "text/plain": [
       "                               dfa  greedy  lookahead1  lookahead3  lookahead5\n",
       "avg_weight_matching      51.843355     NaN   54.965971   56.258797   54.166573\n",
       "avg_weight_per_node      18.139881     NaN   19.121859   21.219393   20.019625\n",
       "num_discarded_buyers    474.000000   692.0  476.000000  466.000000  492.000000\n",
       "num_discarded_sellers   481.000000   805.0  480.000000  429.000000  470.000000\n",
       "weight_per_node_stddev   27.011745     0.0   28.115934   29.319995   28.208929"
      ]
     },
     "execution_count": 93,
     "metadata": {},
     "output_type": "execute_result"
    }
   ],
   "source": [
    "make_dataframe(results_time_sep_3)"
   ]
  },
  {
   "cell_type": "markdown",
   "metadata": {},
   "source": [
    "Seems like have the weight function depend heavily on time makes the greedy algorithm break?"
   ]
  },
  {
   "cell_type": "code",
   "execution_count": 94,
   "metadata": {},
   "outputs": [
    {
     "name": "stdout",
     "output_type": "stream",
     "text": [
      "\n",
      "Seed: 0\n",
      "The greedy algorithm had an average weight of 0.6222476617659023\n",
      "The dfa algorithm had an average weight of 0.5249575687551369\n",
      "The lookahead1 algorithm had an average weight of 0.5291354847738865\n",
      "The lookahead3 algorithm had an average weight of 0.539378944837527\n",
      "The lookahead5 algorithm had an average weight of 0.5258664578469614\n"
     ]
    }
   ],
   "source": [
    "results_big_one = {}\n",
    "for seed in [0]:\n",
    "    print(\"\\nSeed:\", seed)\n",
    "    results_big_one[seed] = run_an_experiment(\n",
    "        seed, 0.9, (10,2), algs_to_test, \n",
    "        weight_function_distance,\n",
    "        fewest_nodes_per_add=1, max_nodes_per_add=10,\n",
    "        p_buyer=0.5, num_runs=1000, size=(20,20))"
   ]
  },
  {
   "cell_type": "code",
   "execution_count": 95,
   "metadata": {},
   "outputs": [
    {
     "data": {
      "text/html": [
       "<div>\n",
       "<style>\n",
       "    .dataframe thead tr:only-child th {\n",
       "        text-align: right;\n",
       "    }\n",
       "\n",
       "    .dataframe thead th {\n",
       "        text-align: left;\n",
       "    }\n",
       "\n",
       "    .dataframe tbody tr th {\n",
       "        vertical-align: top;\n",
       "    }\n",
       "</style>\n",
       "<table border=\"1\" class=\"dataframe\">\n",
       "  <thead>\n",
       "    <tr style=\"text-align: right;\">\n",
       "      <th></th>\n",
       "      <th>dfa</th>\n",
       "      <th>greedy</th>\n",
       "      <th>lookahead1</th>\n",
       "      <th>lookahead3</th>\n",
       "      <th>lookahead5</th>\n",
       "    </tr>\n",
       "  </thead>\n",
       "  <tbody>\n",
       "    <tr>\n",
       "      <th>avg_weight_matching</th>\n",
       "      <td>0.524958</td>\n",
       "      <td>0.622248</td>\n",
       "      <td>0.529135</td>\n",
       "      <td>0.539379</td>\n",
       "      <td>0.525866</td>\n",
       "    </tr>\n",
       "    <tr>\n",
       "      <th>avg_weight_per_node</th>\n",
       "      <td>0.344388</td>\n",
       "      <td>0.328744</td>\n",
       "      <td>0.361886</td>\n",
       "      <td>0.357612</td>\n",
       "      <td>0.360045</td>\n",
       "    </tr>\n",
       "    <tr>\n",
       "      <th>num_discarded_buyers</th>\n",
       "      <td>813.000000</td>\n",
       "      <td>1228.000000</td>\n",
       "      <td>851.000000</td>\n",
       "      <td>777.000000</td>\n",
       "      <td>775.000000</td>\n",
       "    </tr>\n",
       "    <tr>\n",
       "      <th>num_discarded_sellers</th>\n",
       "      <td>847.000000</td>\n",
       "      <td>1179.000000</td>\n",
       "      <td>749.000000</td>\n",
       "      <td>942.000000</td>\n",
       "      <td>778.000000</td>\n",
       "    </tr>\n",
       "    <tr>\n",
       "      <th>weight_per_node_stddev</th>\n",
       "      <td>0.348528</td>\n",
       "      <td>0.369882</td>\n",
       "      <td>0.357087</td>\n",
       "      <td>0.356990</td>\n",
       "      <td>0.353956</td>\n",
       "    </tr>\n",
       "  </tbody>\n",
       "</table>\n",
       "</div>"
      ],
      "text/plain": [
       "                               dfa       greedy  lookahead1  lookahead3  \\\n",
       "avg_weight_matching       0.524958     0.622248    0.529135    0.539379   \n",
       "avg_weight_per_node       0.344388     0.328744    0.361886    0.357612   \n",
       "num_discarded_buyers    813.000000  1228.000000  851.000000  777.000000   \n",
       "num_discarded_sellers   847.000000  1179.000000  749.000000  942.000000   \n",
       "weight_per_node_stddev    0.348528     0.369882    0.357087    0.356990   \n",
       "\n",
       "                        lookahead5  \n",
       "avg_weight_matching       0.525866  \n",
       "avg_weight_per_node       0.360045  \n",
       "num_discarded_buyers    775.000000  \n",
       "num_discarded_sellers   778.000000  \n",
       "weight_per_node_stddev    0.353956  "
      ]
     },
     "execution_count": 95,
     "metadata": {},
     "output_type": "execute_result"
    }
   ],
   "source": [
    "make_dataframe(results_big_one)"
   ]
  },
  {
   "cell_type": "code",
   "execution_count": 89,
   "metadata": {
    "collapsed": true
   },
   "outputs": [],
   "source": [
    "import numpy as np\n",
    "import matplotlib.pyplot as plt\n"
   ]
  },
  {
   "cell_type": "code",
   "execution_count": 65,
   "metadata": {
    "collapsed": true
   },
   "outputs": [],
   "source": [
    "def get_weights_for_histogram(results, seed=0):\n",
    "    all_weights = {}\n",
    "    max_weight = -1000\n",
    "    n_bins=100\n",
    "    lowest = 0\n",
    "    for alg_name, res in results[seed].items():\n",
    "        weights, discarded_buyers, discarded_sellers, matched_wait_times = res\n",
    "        just_weights = [w[0] for w in weights]\n",
    "        max_weight = max(max_weight, max(just_weights))\n",
    "        all_weights[alg_name] = just_weights\n",
    "    hist_values = {}\n",
    "    for alg in all_weights.keys():\n",
    "        hist_values[alg], bins = np.histogram(np.array(all_weights[alg]), n_bins, (lowest, max_weight))\n",
    "    return pd.DataFrame(hist_values), bins\n",
    "\n",
    "\n"
   ]
  },
  {
   "cell_type": "code",
   "execution_count": 72,
   "metadata": {},
   "outputs": [
    {
     "data": {
      "image/png": "[encoded data removed]",
      "text/plain": [
       "<matplotlib.figure.Figure at 0x191cf02e80>"
      ]
     },
     "metadata": {},
     "output_type": "display_data"
    }
   ],
   "source": [
    "df, bins = get_weights_for_histogram(results1)\n",
    "plt.hist(df)\n",
    "plt.show()"
   ]
  },
  {
   "cell_type": "code",
   "execution_count": null,
   "metadata": {
    "collapsed": true
   },
   "outputs": [],
   "source": []
  }
 ],
 "metadata": {
  "kernelspec": {
   "display_name": "CORRECT_PY3",
   "language": "python",
   "name": "python3_"
  },
  "language_info": {
   "codemirror_mode": {
    "name": "ipython",
    "version": 3
   },
   "file_extension": ".py",
   "mimetype": "text/x-python",
   "name": "python",
   "nbconvert_exporter": "python",
   "pygments_lexer": "ipython3",
   "version": "3.6.3"
  }
 },
 "nbformat": 4,
 "nbformat_minor": 2
}
